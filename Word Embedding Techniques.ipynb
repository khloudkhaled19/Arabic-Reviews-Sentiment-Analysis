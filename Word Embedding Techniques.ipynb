{
 "cells": [
  {
   "cell_type": "code",
   "execution_count": 7,
   "metadata": {},
   "outputs": [
    {
     "name": "stdout",
     "output_type": "stream",
     "text": [
      "Requirement already satisfied: tensorflow in c:\\users\\smart lap\\anaconda3\\lib\\site-packages (2.12.0)\n",
      "Requirement already satisfied: tensorflow-intel==2.12.0 in c:\\users\\smart lap\\anaconda3\\lib\\site-packages (from tensorflow) (2.12.0)\n",
      "Requirement already satisfied: six>=1.12.0 in c:\\users\\smart lap\\anaconda3\\lib\\site-packages (from tensorflow-intel==2.12.0->tensorflow) (1.16.0)\n",
      "Requirement already satisfied: tensorflow-io-gcs-filesystem>=0.23.1 in c:\\users\\smart lap\\anaconda3\\lib\\site-packages (from tensorflow-intel==2.12.0->tensorflow) (0.31.0)\n",
      "Requirement already satisfied: opt-einsum>=2.3.2 in c:\\users\\smart lap\\anaconda3\\lib\\site-packages (from tensorflow-intel==2.12.0->tensorflow) (3.3.0)\n",
      "Requirement already satisfied: wrapt<1.15,>=1.11.0 in c:\\users\\smart lap\\anaconda3\\lib\\site-packages (from tensorflow-intel==2.12.0->tensorflow) (1.12.1)\n",
      "Requirement already satisfied: protobuf!=4.21.0,!=4.21.1,!=4.21.2,!=4.21.3,!=4.21.4,!=4.21.5,<5.0.0dev,>=3.20.3 in c:\\users\\smart lap\\anaconda3\\lib\\site-packages (from tensorflow-intel==2.12.0->tensorflow) (4.22.3)\n",
      "Requirement already satisfied: absl-py>=1.0.0 in c:\\users\\smart lap\\anaconda3\\lib\\site-packages (from tensorflow-intel==2.12.0->tensorflow) (1.4.0)\n",
      "Requirement already satisfied: tensorboard<2.13,>=2.12 in c:\\users\\smart lap\\anaconda3\\lib\\site-packages (from tensorflow-intel==2.12.0->tensorflow) (2.12.2)\n",
      "Requirement already satisfied: flatbuffers>=2.0 in c:\\users\\smart lap\\anaconda3\\lib\\site-packages (from tensorflow-intel==2.12.0->tensorflow) (23.3.3)\n",
      "Requirement already satisfied: packaging in c:\\users\\smart lap\\anaconda3\\lib\\site-packages (from tensorflow-intel==2.12.0->tensorflow) (21.0)\n",
      "Requirement already satisfied: jax>=0.3.15 in c:\\users\\smart lap\\anaconda3\\lib\\site-packages (from tensorflow-intel==2.12.0->tensorflow) (0.4.8)\n",
      "Requirement already satisfied: keras<2.13,>=2.12.0 in c:\\users\\smart lap\\anaconda3\\lib\\site-packages (from tensorflow-intel==2.12.0->tensorflow) (2.12.0)\n",
      "Requirement already satisfied: gast<=0.4.0,>=0.2.1 in c:\\users\\smart lap\\anaconda3\\lib\\site-packages (from tensorflow-intel==2.12.0->tensorflow) (0.4.0)\n",
      "Requirement already satisfied: grpcio<2.0,>=1.24.3 in c:\\users\\smart lap\\anaconda3\\lib\\site-packages (from tensorflow-intel==2.12.0->tensorflow) (1.54.0)\n",
      "Requirement already satisfied: typing-extensions>=3.6.6 in c:\\users\\smart lap\\anaconda3\\lib\\site-packages (from tensorflow-intel==2.12.0->tensorflow) (3.10.0.2)\n",
      "Requirement already satisfied: libclang>=13.0.0 in c:\\users\\smart lap\\anaconda3\\lib\\site-packages (from tensorflow-intel==2.12.0->tensorflow) (16.0.0)\n",
      "Requirement already satisfied: termcolor>=1.1.0 in c:\\users\\smart lap\\anaconda3\\lib\\site-packages (from tensorflow-intel==2.12.0->tensorflow) (2.2.0)\n",
      "Requirement already satisfied: astunparse>=1.6.0 in c:\\users\\smart lap\\anaconda3\\lib\\site-packages (from tensorflow-intel==2.12.0->tensorflow) (1.6.3)\n",
      "Requirement already satisfied: tensorflow-estimator<2.13,>=2.12.0 in c:\\users\\smart lap\\anaconda3\\lib\\site-packages (from tensorflow-intel==2.12.0->tensorflow) (2.12.0)\n",
      "Requirement already satisfied: numpy<1.24,>=1.22 in c:\\users\\smart lap\\anaconda3\\lib\\site-packages (from tensorflow-intel==2.12.0->tensorflow) (1.22.4)\n",
      "Requirement already satisfied: setuptools in c:\\users\\smart lap\\anaconda3\\lib\\site-packages (from tensorflow-intel==2.12.0->tensorflow) (58.0.4)\n",
      "Requirement already satisfied: h5py>=2.9.0 in c:\\users\\smart lap\\anaconda3\\lib\\site-packages (from tensorflow-intel==2.12.0->tensorflow) (3.2.1)\n",
      "Requirement already satisfied: google-pasta>=0.1.1 in c:\\users\\smart lap\\anaconda3\\lib\\site-packages (from tensorflow-intel==2.12.0->tensorflow) (0.2.0)\n",
      "Requirement already satisfied: wheel<1.0,>=0.23.0 in c:\\users\\smart lap\\anaconda3\\lib\\site-packages (from astunparse>=1.6.0->tensorflow-intel==2.12.0->tensorflow) (0.37.0)\n",
      "Requirement already satisfied: scipy>=1.7 in c:\\users\\smart lap\\anaconda3\\lib\\site-packages (from jax>=0.3.15->tensorflow-intel==2.12.0->tensorflow) (1.7.1)\n",
      "Requirement already satisfied: ml-dtypes>=0.0.3 in c:\\users\\smart lap\\anaconda3\\lib\\site-packages (from jax>=0.3.15->tensorflow-intel==2.12.0->tensorflow) (0.1.0)\n",
      "Requirement already satisfied: google-auth<3,>=1.6.3 in c:\\users\\smart lap\\anaconda3\\lib\\site-packages (from tensorboard<2.13,>=2.12->tensorflow-intel==2.12.0->tensorflow) (2.17.3)\n",
      "Requirement already satisfied: tensorboard-plugin-wit>=1.6.0 in c:\\users\\smart lap\\anaconda3\\lib\\site-packages (from tensorboard<2.13,>=2.12->tensorflow-intel==2.12.0->tensorflow) (1.8.1)\n",
      "Requirement already satisfied: markdown>=2.6.8 in c:\\users\\smart lap\\anaconda3\\lib\\site-packages (from tensorboard<2.13,>=2.12->tensorflow-intel==2.12.0->tensorflow) (3.4.3)Note: you may need to restart the kernel to use updated packages.\n",
      "Requirement already satisfied: requests<3,>=2.21.0 in c:\\users\\smart lap\\anaconda3\\lib\\site-packages (from tensorboard<2.13,>=2.12->tensorflow-intel==2.12.0->tensorflow) (2.26.0)\n",
      "Requirement already satisfied: werkzeug>=1.0.1 in c:\\users\\smart lap\\anaconda3\\lib\\site-packages (from tensorboard<2.13,>=2.12->tensorflow-intel==2.12.0->tensorflow) (2.0.2)\n",
      "Requirement already satisfied: google-auth-oauthlib<1.1,>=0.5 in c:\\users\\smart lap\\anaconda3\\lib\\site-packages (from tensorboard<2.13,>=2.12->tensorflow-intel==2.12.0->tensorflow) (1.0.0)\n",
      "Requirement already satisfied: tensorboard-data-server<0.8.0,>=0.7.0 in c:\\users\\smart lap\\anaconda3\\lib\\site-packages (from tensorboard<2.13,>=2.12->tensorflow-intel==2.12.0->tensorflow) (0.7.0)\n",
      "Requirement already satisfied: cachetools<6.0,>=2.0.0 in c:\\users\\smart lap\\anaconda3\\lib\\site-packages (from google-auth<3,>=1.6.3->tensorboard<2.13,>=2.12->tensorflow-intel==2.12.0->tensorflow) (5.3.0)\n",
      "Requirement already satisfied: rsa<5,>=3.1.4 in c:\\users\\smart lap\\anaconda3\\lib\\site-packages (from google-auth<3,>=1.6.3->tensorboard<2.13,>=2.12->tensorflow-intel==2.12.0->tensorflow) (4.9)\n",
      "Requirement already satisfied: pyasn1-modules>=0.2.1 in c:\\users\\smart lap\\anaconda3\\lib\\site-packages (from google-auth<3,>=1.6.3->tensorboard<2.13,>=2.12->tensorflow-intel==2.12.0->tensorflow) (0.2.8)\n",
      "Requirement already satisfied: requests-oauthlib>=0.7.0 in c:\\users\\smart lap\\anaconda3\\lib\\site-packages (from google-auth-oauthlib<1.1,>=0.5->tensorboard<2.13,>=2.12->tensorflow-intel==2.12.0->tensorflow) (1.3.1)\n",
      "Requirement already satisfied: importlib-metadata>=4.4 in c:\\users\\smart lap\\anaconda3\\lib\\site-packages (from markdown>=2.6.8->tensorboard<2.13,>=2.12->tensorflow-intel==2.12.0->tensorflow) (4.8.1)\n",
      "Requirement already satisfied: zipp>=0.5 in c:\\users\\smart lap\\anaconda3\\lib\\site-packages (from importlib-metadata>=4.4->markdown>=2.6.8->tensorboard<2.13,>=2.12->tensorflow-intel==2.12.0->tensorflow) (3.6.0)\n",
      "Requirement already satisfied: pyasn1<0.5.0,>=0.4.6 in c:\\users\\smart lap\\anaconda3\\lib\\site-packages (from pyasn1-modules>=0.2.1->google-auth<3,>=1.6.3->tensorboard<2.13,>=2.12->tensorflow-intel==2.12.0->tensorflow) (0.4.8)\n",
      "Requirement already satisfied: idna<4,>=2.5 in c:\\users\\smart lap\\anaconda3\\lib\\site-packages (from requests<3,>=2.21.0->tensorboard<2.13,>=2.12->tensorflow-intel==2.12.0->tensorflow) (3.2)\n",
      "Requirement already satisfied: certifi>=2017.4.17 in c:\\users\\smart lap\\anaconda3\\lib\\site-packages (from requests<3,>=2.21.0->tensorboard<2.13,>=2.12->tensorflow-intel==2.12.0->tensorflow) (2021.10.8)\n",
      "Requirement already satisfied: charset-normalizer~=2.0.0 in c:\\users\\smart lap\\anaconda3\\lib\\site-packages (from requests<3,>=2.21.0->tensorboard<2.13,>=2.12->tensorflow-intel==2.12.0->tensorflow) (2.0.4)\n",
      "Requirement already satisfied: urllib3<1.27,>=1.21.1 in c:\\users\\smart lap\\anaconda3\\lib\\site-packages (from requests<3,>=2.21.0->tensorboard<2.13,>=2.12->tensorflow-intel==2.12.0->tensorflow) (1.26.7)\n",
      "Requirement already satisfied: oauthlib>=3.0.0 in c:\\users\\smart lap\\anaconda3\\lib\\site-packages (from requests-oauthlib>=0.7.0->google-auth-oauthlib<1.1,>=0.5->tensorboard<2.13,>=2.12->tensorflow-intel==2.12.0->tensorflow) (3.2.2)\n",
      "Requirement already satisfied: pyparsing>=2.0.2 in c:\\users\\smart lap\\anaconda3\\lib\\site-packages (from packaging->tensorflow-intel==2.12.0->tensorflow) (3.0.4)\n",
      "\n"
     ]
    }
   ],
   "source": [
    "pip install tensorflow"
   ]
  },
  {
   "cell_type": "code",
   "execution_count": 10,
   "metadata": {},
   "outputs": [
    {
     "name": "stdout",
     "output_type": "stream",
     "text": [
      "Collecting gensim\n",
      "  Downloading gensim-4.3.1-cp39-cp39-win_amd64.whl (24.0 MB)\n",
      "Collecting smart-open>=1.8.1\n",
      "  Downloading smart_open-6.3.0-py3-none-any.whl (56 kB)\n",
      "Requirement already satisfied: scipy>=1.7.0 in c:\\users\\smart lap\\anaconda3\\lib\\site-packages (from gensim) (1.7.1)\n",
      "Requirement already satisfied: numpy>=1.18.5 in c:\\users\\smart lap\\anaconda3\\lib\\site-packages (from gensim) (1.22.4)\n",
      "Installing collected packages: smart-open, gensim\n",
      "Successfully installed gensim-4.3.1 smart-open-6.3.0\n",
      "Note: you may need to restart the kernel to use updated packages.\n"
     ]
    }
   ],
   "source": [
    "pip install gensim"
   ]
  },
  {
   "cell_type": "code",
   "execution_count": 17,
   "metadata": {},
   "outputs": [
    {
     "name": "stdout",
     "output_type": "stream",
     "text": [
      "Requirement already satisfied: spacy in c:\\users\\smart lap\\anaconda3\\lib\\site-packages (3.5.2)\n",
      "Requirement already satisfied: jinja2 in c:\\users\\smart lap\\anaconda3\\lib\\site-packages (from spacy) (2.11.3)\n",
      "Requirement already satisfied: setuptools in c:\\users\\smart lap\\anaconda3\\lib\\site-packages (from spacy) (58.0.4)\n",
      "Requirement already satisfied: srsly<3.0.0,>=2.4.3 in c:\\users\\smart lap\\anaconda3\\lib\\site-packages (from spacy) (2.4.6)\n",
      "Requirement already satisfied: catalogue<2.1.0,>=2.0.6 in c:\\users\\smart lap\\anaconda3\\lib\\site-packages (from spacy) (2.0.8)\n",
      "Requirement already satisfied: preshed<3.1.0,>=3.0.2 in c:\\users\\smart lap\\anaconda3\\lib\\site-packages (from spacy) (3.0.8)\n",
      "Requirement already satisfied: pathy>=0.10.0 in c:\\users\\smart lap\\anaconda3\\lib\\site-packages (from spacy) (0.10.1)\n",
      "Requirement already satisfied: cymem<2.1.0,>=2.0.2 in c:\\users\\smart lap\\anaconda3\\lib\\site-packages (from spacy) (2.0.7)\n",
      "Requirement already satisfied: smart-open<7.0.0,>=5.2.1 in c:\\users\\smart lap\\anaconda3\\lib\\site-packages (from spacy) (6.3.0)\n",
      "Requirement already satisfied: pydantic!=1.8,!=1.8.1,<1.11.0,>=1.7.4 in c:\\users\\smart lap\\anaconda3\\lib\\site-packages (from spacy) (1.10.7)\n",
      "Requirement already satisfied: tqdm<5.0.0,>=4.38.0 in c:\\users\\smart lap\\anaconda3\\lib\\site-packages (from spacy) (4.62.3)\n",
      "Requirement already satisfied: packaging>=20.0 in c:\\users\\smart lap\\anaconda3\\lib\\site-packages (from spacy) (21.0)\n",
      "Requirement already satisfied: typer<0.8.0,>=0.3.0 in c:\\users\\smart lap\\anaconda3\\lib\\site-packages (from spacy) (0.7.0)\n",
      "Requirement already satisfied: wasabi<1.2.0,>=0.9.1 in c:\\users\\smart lap\\anaconda3\\lib\\site-packages (from spacy) (1.1.1)\n",
      "Requirement already satisfied: spacy-legacy<3.1.0,>=3.0.11 in c:\\users\\smart lap\\anaconda3\\lib\\site-packages (from spacy) (3.0.12)\n",
      "Requirement already satisfied: murmurhash<1.1.0,>=0.28.0 in c:\\users\\smart lap\\anaconda3\\lib\\site-packages (from spacy) (1.0.9)\n",
      "Requirement already satisfied: spacy-loggers<2.0.0,>=1.0.0 in c:\\users\\smart lap\\anaconda3\\lib\\site-packages (from spacy) (1.0.4)\n",
      "Requirement already satisfied: langcodes<4.0.0,>=3.2.0 in c:\\users\\smart lap\\anaconda3\\lib\\site-packages (from spacy) (3.3.0)\n",
      "Requirement already satisfied: requests<3.0.0,>=2.13.0 in c:\\users\\smart lap\\anaconda3\\lib\\site-packages (from spacy) (2.26.0)\n",
      "Requirement already satisfied: numpy>=1.15.0 in c:\\users\\smart lap\\anaconda3\\lib\\site-packages (from spacy) (1.22.4)\n",
      "Requirement already satisfied: thinc<8.2.0,>=8.1.8 in c:\\users\\smart lap\\anaconda3\\lib\\site-packages (from spacy) (8.1.9)\n",
      "Requirement already satisfied: pyparsing>=2.0.2 in c:\\users\\smart lap\\anaconda3\\lib\\site-packages (from packaging>=20.0->spacy) (3.0.4)\n",
      "Requirement already satisfied: typing-extensions>=4.2.0 in c:\\users\\smart lap\\anaconda3\\lib\\site-packages (from pydantic!=1.8,!=1.8.1,<1.11.0,>=1.7.4->spacy) (4.5.0)\n",
      "Requirement already satisfied: urllib3<1.27,>=1.21.1 in c:\\users\\smart lap\\anaconda3\\lib\\site-packages (from requests<3.0.0,>=2.13.0->spacy) (1.26.7)\n",
      "Requirement already satisfied: idna<4,>=2.5 in c:\\users\\smart lap\\anaconda3\\lib\\site-packages (from requests<3.0.0,>=2.13.0->spacy) (3.2)\n",
      "Requirement already satisfied: certifi>=2017.4.17 in c:\\users\\smart lap\\anaconda3\\lib\\site-packages (from requests<3.0.0,>=2.13.0->spacy) (2021.10.8)\n",
      "Requirement already satisfied: charset-normalizer~=2.0.0 in c:\\users\\smart lap\\anaconda3\\lib\\site-packages (from requests<3.0.0,>=2.13.0->spacy) (2.0.4)\n",
      "Requirement already satisfied: blis<0.8.0,>=0.7.8 in c:\\users\\smart lap\\anaconda3\\lib\\site-packages (from thinc<8.2.0,>=8.1.8->spacy) (0.7.9)\n",
      "Requirement already satisfied: confection<1.0.0,>=0.0.1 in c:\\users\\smart lap\\anaconda3\\lib\\site-packages (from thinc<8.2.0,>=8.1.8->spacy) (0.0.4)\n",
      "Requirement already satisfied: colorama in c:\\users\\smart lap\\anaconda3\\lib\\site-packages (from tqdm<5.0.0,>=4.38.0->spacy) (0.4.6)\n",
      "Requirement already satisfied: click<9.0.0,>=7.1.1 in c:\\users\\smart lap\\anaconda3\\lib\\site-packages (from typer<0.8.0,>=0.3.0->spacy) (8.0.3)\n",
      "Requirement already satisfied: MarkupSafe>=0.23 in c:\\users\\smart lap\\anaconda3\\lib\\site-packages (from jinja2->spacy) (1.1.1)\n",
      "Note: you may need to restart the kernel to use updated packages.\n"
     ]
    }
   ],
   "source": [
    "pip install spacy"
   ]
  },
  {
   "cell_type": "code",
   "execution_count": 18,
   "metadata": {},
   "outputs": [
    {
     "name": "stdout",
     "output_type": "stream",
     "text": [
      "Requirement already satisfied: nltk in c:\\users\\smart lap\\anaconda3\\lib\\site-packages (3.6.5)\n",
      "Requirement already satisfied: click in c:\\users\\smart lap\\anaconda3\\lib\\site-packages (from nltk) (8.0.3)\n",
      "Requirement already satisfied: joblib in c:\\users\\smart lap\\anaconda3\\lib\\site-packages (from nltk) (1.1.0)\n",
      "Requirement already satisfied: regex>=2021.8.3 in c:\\users\\smart lap\\anaconda3\\lib\\site-packages (from nltk) (2021.8.3)\n",
      "Requirement already satisfied: tqdm in c:\\users\\smart lap\\anaconda3\\lib\\site-packages (from nltk) (4.62.3)\n",
      "Requirement already satisfied: colorama in c:\\users\\smart lap\\anaconda3\\lib\\site-packages (from click->nltk) (0.4.6)\n",
      "Note: you may need to restart the kernel to use updated packages.\n"
     ]
    }
   ],
   "source": [
    "pip install nltk"
   ]
  },
  {
   "cell_type": "code",
   "execution_count": null,
   "metadata": {
    "colab": {
     "base_uri": "https://localhost:8080/"
    },
    "id": "RL6bt8TBfzll",
    "outputId": "4815e469-f283-4835-a8af-648b51487173"
   },
   "outputs": [],
   "source": [
    "import pandas as pd\n",
    "import numpy as np\n",
    "from sklearn.model_selection import train_test_split\n",
    "import tensorflow as tf\n",
    "from keras.preprocessing.text import Tokenizer\n",
    "import gensim\n",
    "from gensim.models import KeyedVectors\n",
    "from gensim.models import word2vec\n",
    "import spacy\n",
    "import gensim.downloader as api\n",
    "from gensim.models.word2vec import Word2Vec\n",
    "import nltk\n",
    "from nltk.tokenize import word_tokenize\n",
    "nltk.download('punkt')\n",
    "import re\n"
   ]
  },
  {
   "cell_type": "code",
   "execution_count": null,
   "metadata": {
    "id": "ct1gjpKpf798"
   },
   "outputs": [],
   "source": [
    "nlp = spacy.load(\"en_core_web_sm\")"
   ]
  },
  {
   "cell_type": "code",
   "execution_count": null,
   "metadata": {
    "id": "DcVMvbeDpJlK"
   },
   "outputs": [],
   "source": [
    "from google.colab import drive\n",
    "#!unzip gdrive/My\\ Drive/data/train.zip\n",
    "df = pd.read_csv('/content/drive/MyDrive/cleaned_review.csv')"
   ]
  },
  {
   "cell_type": "code",
   "execution_count": null,
   "metadata": {
    "colab": {
     "base_uri": "https://localhost:8080/",
     "height": 554
    },
    "id": "hL7mKX3ktZ5J",
    "outputId": "246386d5-925d-45eb-d439-fbb3af0a1f33"
   },
   "outputs": [],
   "source": [
    "df"
   ]
  },
  {
   "cell_type": "code",
   "execution_count": null,
   "metadata": {
    "id": "nZfGMHyrslfD"
   },
   "outputs": [],
   "source": [
    "df = df.drop(['Unnamed: 0.1'], axis=1)\n",
    "df = df.drop(['Unnamed: 0'], axis=1)"
   ]
  },
  {
   "cell_type": "code",
   "execution_count": null,
   "metadata": {
    "colab": {
     "base_uri": "https://localhost:8080/",
     "height": 423
    },
    "id": "6Y5zuuE-t8uB",
    "outputId": "53c6e098-aa78-463b-c683-ca9c93f169b5"
   },
   "outputs": [],
   "source": [
    "df"
   ]
  },
  {
   "cell_type": "code",
   "execution_count": null,
   "metadata": {
    "colab": {
     "base_uri": "https://localhost:8080/"
    },
    "id": "3NwWZmImBxFX",
    "outputId": "b0029697-a481-414b-a0d0-ae046fa11937"
   },
   "outputs": [],
   "source": [
    "df.info()"
   ]
  },
  {
   "cell_type": "code",
   "execution_count": null,
   "metadata": {
    "id": "MHikEfK5DE1N"
   },
   "outputs": [],
   "source": [
    "df = df.astype({'review': 'str'})"
   ]
  },
  {
   "cell_type": "code",
   "execution_count": 9,
   "metadata": {
    "colab": {
     "base_uri": "https://localhost:8080/"
    },
    "id": "daNi9WrmrTUN",
    "outputId": "0cfa0258-4a5a-44fd-e569-a0caff508aba"
   },
   "outputs": [
    {
     "name": "stdout",
     "output_type": "stream",
     "text": [
      "Archive:  /content/drive/MyDrive/tweet_cbow_100.zip\n",
      "  inflating: tweets_cbow_100         \n",
      "  inflating: tweets_cbow_100.trainables.syn1neg.npy  \n",
      "  inflating: tweets_cbow_100.wv.vectors.npy  \n"
     ]
    }
   ],
   "source": [
    "!unzip /content/drive/MyDrive/tweet_cbow_100.zip"
   ]
  },
  {
   "cell_type": "code",
   "execution_count": 10,
   "metadata": {
    "colab": {
     "base_uri": "https://localhost:8080/"
    },
    "id": "bH8eaQ39m45R",
    "outputId": "4ad20a1a-269e-402e-ece6-5f3ddc7dec6c"
   },
   "outputs": [
    {
     "name": "stdout",
     "output_type": "stream",
     "text": [
      "Archive:  /content/drive/MyDrive/fasttext.zip\n",
      "  inflating: cc.ar.300.vec           \n"
     ]
    }
   ],
   "source": [
    "!unzip /content/drive/MyDrive/fasttext.zip"
   ]
  },
  {
   "cell_type": "code",
   "execution_count": 11,
   "metadata": {
    "colab": {
     "base_uri": "https://localhost:8080/"
    },
    "id": "Uk-_mrpxnBtS",
    "outputId": "fc5d807d-4951-4dfb-959a-9a9ada1ad5d8"
   },
   "outputs": [
    {
     "name": "stdout",
     "output_type": "stream",
     "text": [
      "Drive already mounted at /content/drive; to attempt to forcibly remount, call drive.mount(\"/content/drive\", force_remount=True).\n"
     ]
    }
   ],
   "source": [
    "from google.colab import drive\n",
    "drive.mount('/content/drive')"
   ]
  },
  {
   "cell_type": "code",
   "execution_count": 3,
   "metadata": {
    "id": "OBfSYiVvgEUI"
   },
   "outputs": [
    {
     "ename": "NameError",
     "evalue": "name 'gensim' is not defined",
     "output_type": "error",
     "traceback": [
      "\u001b[1;31m---------------------------------------------------------------------------\u001b[0m",
      "\u001b[1;31mNameError\u001b[0m                                 Traceback (most recent call last)",
      "\u001b[1;32mC:\\Users\\SMARTL~1\\AppData\\Local\\Temp/ipykernel_12064/3309779420.py\u001b[0m in \u001b[0;36m<module>\u001b[1;34m\u001b[0m\n\u001b[1;32m----> 1\u001b[1;33m \u001b[0mmodel_wv\u001b[0m \u001b[1;33m=\u001b[0m \u001b[0mgensim\u001b[0m\u001b[1;33m.\u001b[0m\u001b[0mmodels\u001b[0m\u001b[1;33m.\u001b[0m\u001b[0mWord2Vec\u001b[0m\u001b[1;33m.\u001b[0m\u001b[0mload\u001b[0m\u001b[1;33m(\u001b[0m\u001b[1;34m\"tweets_cbow_100\"\u001b[0m\u001b[1;33m)\u001b[0m\u001b[1;33m\u001b[0m\u001b[1;33m\u001b[0m\u001b[0m\n\u001b[0m",
      "\u001b[1;31mNameError\u001b[0m: name 'gensim' is not defined"
     ]
    }
   ],
   "source": [
    "model_wv = gensim.models.Word2Vec.load(\"tweets_cbow_100\")"
   ]
  },
  {
   "cell_type": "markdown",
   "metadata": {
    "id": "cqgFH555rDSN"
   },
   "source": [
    "**1- Word2Vec**"
   ]
  },
  {
   "cell_type": "code",
   "execution_count": 13,
   "metadata": {
    "id": "xq1pr2wmkNTg"
   },
   "outputs": [],
   "source": [
    "#adding all reviews into a list of docs\n",
    "docs = []\n",
    "for doc in df['review']:\n",
    "  docs.append(doc)"
   ]
  },
  {
   "cell_type": "code",
   "execution_count": 14,
   "metadata": {
    "id": "J6wyHtLTuFpU"
   },
   "outputs": [],
   "source": [
    "#tokenize and vectorize the data\n",
    "def vectorize(text):\n",
    "    vectors = []\n",
    "    tokens = word_tokenize(text)\n",
    "    for token in tokens:\n",
    "        try:\n",
    "            vectors.append(model_wv.wv[token])\n",
    "        except KeyError:\n",
    "            continue\n",
    "    return np.mean(vectors, axis=0)\n"
   ]
  },
  {
   "cell_type": "code",
   "execution_count": 15,
   "metadata": {
    "colab": {
     "base_uri": "https://localhost:8080/",
     "height": 678
    },
    "id": "4eVunqrRV0gC",
    "outputId": "a6d12e35-46e6-42d6-da2b-f0cfd29d05e1"
   },
   "outputs": [
    {
     "name": "stderr",
     "output_type": "stream",
     "text": [
      "/usr/local/lib/python3.9/dist-packages/numpy/core/fromnumeric.py:3474: RuntimeWarning: Mean of empty slice.\n",
      "  return _methods._mean(a, axis=axis, dtype=dtype,\n"
     ]
    },
    {
     "data": {
      "text/html": [
       "\n",
       "  <div id=\"df-ef61b78b-d578-46eb-bd66-b063ad49bd66\">\n",
       "    <div class=\"colab-df-container\">\n",
       "      <div>\n",
       "<style scoped>\n",
       "    .dataframe tbody tr th:only-of-type {\n",
       "        vertical-align: middle;\n",
       "    }\n",
       "\n",
       "    .dataframe tbody tr th {\n",
       "        vertical-align: top;\n",
       "    }\n",
       "\n",
       "    .dataframe thead th {\n",
       "        text-align: right;\n",
       "    }\n",
       "</style>\n",
       "<table border=\"1\" class=\"dataframe\">\n",
       "  <thead>\n",
       "    <tr style=\"text-align: right;\">\n",
       "      <th></th>\n",
       "      <th>rating</th>\n",
       "      <th>company</th>\n",
       "      <th>review</th>\n",
       "      <th>vector</th>\n",
       "    </tr>\n",
       "  </thead>\n",
       "  <tbody>\n",
       "    <tr>\n",
       "      <th>0</th>\n",
       "      <td>1</td>\n",
       "      <td>talbat</td>\n",
       "      <td>رئع</td>\n",
       "      <td>NaN</td>\n",
       "    </tr>\n",
       "    <tr>\n",
       "      <th>1</th>\n",
       "      <td>1</td>\n",
       "      <td>talbat</td>\n",
       "      <td>رنمج رئع جدا سعد لبه حيج شكل سرع</td>\n",
       "      <td>[1.6961856, 0.08220401, -0.33615932, -0.392516...</td>\n",
       "    </tr>\n",
       "    <tr>\n",
       "      <th>2</th>\n",
       "      <td>-1</td>\n",
       "      <td>talbat</td>\n",
       "      <td>طبق غتح دائ يعط وجد تصل شبك انه الن عند تمم شو...</td>\n",
       "      <td>[-0.22570415, 0.20668864, 0.05381265, -0.87980...</td>\n",
       "    </tr>\n",
       "    <tr>\n",
       "      <th>3</th>\n",
       "      <td>-1</td>\n",
       "      <td>talbat</td>\n",
       "      <td>لمذ يمك طلب ماكدونالدز؟</td>\n",
       "      <td>[2.3001964, -4.126458, 0.91109973, 1.2804632, ...</td>\n",
       "    </tr>\n",
       "    <tr>\n",
       "      <th>4</th>\n",
       "      <td>-1</td>\n",
       "      <td>talbat</td>\n",
       "      <td>رنمج ظهر طعم غلق انه بتك فتح بقل كده كتر شهر</td>\n",
       "      <td>[0.89374125, -0.45155722, -0.4417662, -0.02822...</td>\n",
       "    </tr>\n",
       "    <tr>\n",
       "      <th>...</th>\n",
       "      <td>...</td>\n",
       "      <td>...</td>\n",
       "      <td>...</td>\n",
       "      <td>...</td>\n",
       "    </tr>\n",
       "    <tr>\n",
       "      <th>38157</th>\n",
       "      <td>1</td>\n",
       "      <td>telecom_egypt</td>\n",
       "      <td>متز عمل متز سعر بلغ شوه</td>\n",
       "      <td>[1.0109402, -0.6620609, -0.24655917, -0.112242...</td>\n",
       "    </tr>\n",
       "    <tr>\n",
       "      <th>38158</th>\n",
       "      <td>-1</td>\n",
       "      <td>telecom_egypt</td>\n",
       "      <td>رحل كوس حلة باص مش اد كده يري حدث باص حتي تكون...</td>\n",
       "      <td>[0.7163581, -0.51264083, -0.11336234, -1.27559...</td>\n",
       "    </tr>\n",
       "    <tr>\n",
       "      <th>38159</th>\n",
       "      <td>-1</td>\n",
       "      <td>telecom_egypt</td>\n",
       "      <td>جرب جيد نقص عدم همم خدم عملاء عمل مره وصل شرك ...</td>\n",
       "      <td>[2.5690944, -0.10699671, 0.34229198, 0.0172564...</td>\n",
       "    </tr>\n",
       "    <tr>\n",
       "      <th>38160</th>\n",
       "      <td>-1</td>\n",
       "      <td>telecom_egypt</td>\n",
       "      <td>جيد لمذ وجد خطط كثر ريط يصل حتي ندي رمايه؟ رجو...</td>\n",
       "      <td>[0.607037, 0.27123147, 0.27895132, 0.12746403,...</td>\n",
       "    </tr>\n",
       "    <tr>\n",
       "      <th>38161</th>\n",
       "      <td>-1</td>\n",
       "      <td>telecom_egypt</td>\n",
       "      <td>طبق حلو جدا خدم متز سعر علي شوه</td>\n",
       "      <td>[2.4438508, 0.27650556, -0.6744384, 0.31624493...</td>\n",
       "    </tr>\n",
       "  </tbody>\n",
       "</table>\n",
       "<p>38162 rows × 4 columns</p>\n",
       "</div>\n",
       "      <button class=\"colab-df-convert\" onclick=\"convertToInteractive('df-ef61b78b-d578-46eb-bd66-b063ad49bd66')\"\n",
       "              title=\"Convert this dataframe to an interactive table.\"\n",
       "              style=\"display:none;\">\n",
       "        \n",
       "  <svg xmlns=\"http://www.w3.org/2000/svg\" height=\"24px\"viewBox=\"0 0 24 24\"\n",
       "       width=\"24px\">\n",
       "    <path d=\"M0 0h24v24H0V0z\" fill=\"none\"/>\n",
       "    <path d=\"M18.56 5.44l.94 2.06.94-2.06 2.06-.94-2.06-.94-.94-2.06-.94 2.06-2.06.94zm-11 1L8.5 8.5l.94-2.06 2.06-.94-2.06-.94L8.5 2.5l-.94 2.06-2.06.94zm10 10l.94 2.06.94-2.06 2.06-.94-2.06-.94-.94-2.06-.94 2.06-2.06.94z\"/><path d=\"M17.41 7.96l-1.37-1.37c-.4-.4-.92-.59-1.43-.59-.52 0-1.04.2-1.43.59L10.3 9.45l-7.72 7.72c-.78.78-.78 2.05 0 2.83L4 21.41c.39.39.9.59 1.41.59.51 0 1.02-.2 1.41-.59l7.78-7.78 2.81-2.81c.8-.78.8-2.07 0-2.86zM5.41 20L4 18.59l7.72-7.72 1.47 1.35L5.41 20z\"/>\n",
       "  </svg>\n",
       "      </button>\n",
       "      \n",
       "  <style>\n",
       "    .colab-df-container {\n",
       "      display:flex;\n",
       "      flex-wrap:wrap;\n",
       "      gap: 12px;\n",
       "    }\n",
       "\n",
       "    .colab-df-convert {\n",
       "      background-color: #E8F0FE;\n",
       "      border: none;\n",
       "      border-radius: 50%;\n",
       "      cursor: pointer;\n",
       "      display: none;\n",
       "      fill: #1967D2;\n",
       "      height: 32px;\n",
       "      padding: 0 0 0 0;\n",
       "      width: 32px;\n",
       "    }\n",
       "\n",
       "    .colab-df-convert:hover {\n",
       "      background-color: #E2EBFA;\n",
       "      box-shadow: 0px 1px 2px rgba(60, 64, 67, 0.3), 0px 1px 3px 1px rgba(60, 64, 67, 0.15);\n",
       "      fill: #174EA6;\n",
       "    }\n",
       "\n",
       "    [theme=dark] .colab-df-convert {\n",
       "      background-color: #3B4455;\n",
       "      fill: #D2E3FC;\n",
       "    }\n",
       "\n",
       "    [theme=dark] .colab-df-convert:hover {\n",
       "      background-color: #434B5C;\n",
       "      box-shadow: 0px 1px 3px 1px rgba(0, 0, 0, 0.15);\n",
       "      filter: drop-shadow(0px 1px 2px rgba(0, 0, 0, 0.3));\n",
       "      fill: #FFFFFF;\n",
       "    }\n",
       "  </style>\n",
       "\n",
       "      <script>\n",
       "        const buttonEl =\n",
       "          document.querySelector('#df-ef61b78b-d578-46eb-bd66-b063ad49bd66 button.colab-df-convert');\n",
       "        buttonEl.style.display =\n",
       "          google.colab.kernel.accessAllowed ? 'block' : 'none';\n",
       "\n",
       "        async function convertToInteractive(key) {\n",
       "          const element = document.querySelector('#df-ef61b78b-d578-46eb-bd66-b063ad49bd66');\n",
       "          const dataTable =\n",
       "            await google.colab.kernel.invokeFunction('convertToInteractive',\n",
       "                                                     [key], {});\n",
       "          if (!dataTable) return;\n",
       "\n",
       "          const docLinkHtml = 'Like what you see? Visit the ' +\n",
       "            '<a target=\"_blank\" href=https://colab.research.google.com/notebooks/data_table.ipynb>data table notebook</a>'\n",
       "            + ' to learn more about interactive tables.';\n",
       "          element.innerHTML = '';\n",
       "          dataTable['output_type'] = 'display_data';\n",
       "          await google.colab.output.renderOutput(dataTable, element);\n",
       "          const docLink = document.createElement('div');\n",
       "          docLink.innerHTML = docLinkHtml;\n",
       "          element.appendChild(docLink);\n",
       "        }\n",
       "      </script>\n",
       "    </div>\n",
       "  </div>\n",
       "  "
      ],
      "text/plain": [
       "       rating        company  \\\n",
       "0           1         talbat   \n",
       "1           1         talbat   \n",
       "2          -1         talbat   \n",
       "3          -1         talbat   \n",
       "4          -1         talbat   \n",
       "...       ...            ...   \n",
       "38157       1  telecom_egypt   \n",
       "38158      -1  telecom_egypt   \n",
       "38159      -1  telecom_egypt   \n",
       "38160      -1  telecom_egypt   \n",
       "38161      -1  telecom_egypt   \n",
       "\n",
       "                                                  review  \\\n",
       "0                                                    رئع   \n",
       "1                       رنمج رئع جدا سعد لبه حيج شكل سرع   \n",
       "2      طبق غتح دائ يعط وجد تصل شبك انه الن عند تمم شو...   \n",
       "3                                لمذ يمك طلب ماكدونالدز؟   \n",
       "4           رنمج ظهر طعم غلق انه بتك فتح بقل كده كتر شهر   \n",
       "...                                                  ...   \n",
       "38157                            متز عمل متز سعر بلغ شوه   \n",
       "38158  رحل كوس حلة باص مش اد كده يري حدث باص حتي تكون...   \n",
       "38159  جرب جيد نقص عدم همم خدم عملاء عمل مره وصل شرك ...   \n",
       "38160  جيد لمذ وجد خطط كثر ريط يصل حتي ندي رمايه؟ رجو...   \n",
       "38161                    طبق حلو جدا خدم متز سعر علي شوه   \n",
       "\n",
       "                                                  vector  \n",
       "0                                                    NaN  \n",
       "1      [1.6961856, 0.08220401, -0.33615932, -0.392516...  \n",
       "2      [-0.22570415, 0.20668864, 0.05381265, -0.87980...  \n",
       "3      [2.3001964, -4.126458, 0.91109973, 1.2804632, ...  \n",
       "4      [0.89374125, -0.45155722, -0.4417662, -0.02822...  \n",
       "...                                                  ...  \n",
       "38157  [1.0109402, -0.6620609, -0.24655917, -0.112242...  \n",
       "38158  [0.7163581, -0.51264083, -0.11336234, -1.27559...  \n",
       "38159  [2.5690944, -0.10699671, 0.34229198, 0.0172564...  \n",
       "38160  [0.607037, 0.27123147, 0.27895132, 0.12746403,...  \n",
       "38161  [2.4438508, 0.27650556, -0.6744384, 0.31624493...  \n",
       "\n",
       "[38162 rows x 4 columns]"
      ]
     },
     "execution_count": 15,
     "metadata": {},
     "output_type": "execute_result"
    }
   ],
   "source": [
    "df['vector'] = df['review'].apply(lambda text: vectorize(text))\n",
    "df"
   ]
  },
  {
   "cell_type": "code",
   "execution_count": 52,
   "metadata": {
    "id": "B9mzWnmi5wlF"
   },
   "outputs": [],
   "source": [
    "df = df.dropna()"
   ]
  },
  {
   "cell_type": "code",
   "execution_count": 41,
   "metadata": {
    "id": "h7o5Xdnc4-uB"
   },
   "outputs": [],
   "source": [
    "from sklearn.model_selection import train_test_split"
   ]
  },
  {
   "cell_type": "code",
   "execution_count": 63,
   "metadata": {
    "id": "IRbQ-tYhzydM"
   },
   "outputs": [],
   "source": [
    "X_train, X_test, y_train, y_test = train_test_split(\n",
    "    df.vector.values, \n",
    "    df.rating, \n",
    "    test_size=0.2, # 20% samples will go to test dataset\n",
    "    random_state=2022,\n",
    "    stratify=df.rating\n",
    ")"
   ]
  },
  {
   "cell_type": "code",
   "execution_count": 64,
   "metadata": {
    "colab": {
     "base_uri": "https://localhost:8080/"
    },
    "id": "LPZD0c34jMKL",
    "outputId": "8b02f537-2c43-4bfc-a162-b493a71892f2"
   },
   "outputs": [
    {
     "data": {
      "text/plain": [
       "(27062,)"
      ]
     },
     "execution_count": 64,
     "metadata": {},
     "output_type": "execute_result"
    }
   ],
   "source": [
    "X_train.shape"
   ]
  },
  {
   "cell_type": "code",
   "execution_count": 65,
   "metadata": {
    "colab": {
     "base_uri": "https://localhost:8080/"
    },
    "id": "opABfUcgZXXJ",
    "outputId": "9475e6e7-b911-4f2c-ae55-ec1f6d29285a"
   },
   "outputs": [
    {
     "name": "stdout",
     "output_type": "stream",
     "text": [
      "Shape of X_train before reshaping:  (27062,)\n",
      "Shape of X_test before reshaping:  (6766,)\n",
      "Shape of X_train after reshaping:  (27062, 100)\n",
      "Shape of X_test after reshaping:  (6766, 100)\n"
     ]
    }
   ],
   "source": [
    "print(\"Shape of X_train before reshaping: \", X_train.shape)\n",
    "print(\"Shape of X_test before reshaping: \", X_test.shape)\n",
    "\n",
    "\n",
    "X_train_2d = np.stack(X_train)\n",
    "X_test_2d =  np.stack(X_test)\n",
    "\n",
    "print(\"Shape of X_train after reshaping: \", X_train_2d.shape)\n",
    "print(\"Shape of X_test after reshaping: \", X_test_2d.shape)"
   ]
  },
  {
   "cell_type": "markdown",
   "metadata": {
    "id": "8LV0fwXiwr5W"
   },
   "source": [
    "Evaluating Word2Vec using Decision Tree"
   ]
  },
  {
   "cell_type": "code",
   "execution_count": 56,
   "metadata": {
    "colab": {
     "base_uri": "https://localhost:8080/"
    },
    "id": "tp3GeqSDani9",
    "outputId": "9e572032-6ba3-4631-a133-e531d02f34f7"
   },
   "outputs": [
    {
     "name": "stdout",
     "output_type": "stream",
     "text": [
      "Accuracy: 0.5161099615725687\n",
      "              precision    recall  f1-score   support\n",
      "\n",
      "          -1       0.41      0.40      0.40      2464\n",
      "           0       0.06      0.06      0.06       329\n",
      "           1       0.62      0.63      0.62      3973\n",
      "\n",
      "    accuracy                           0.52      6766\n",
      "   macro avg       0.36      0.36      0.36      6766\n",
      "weighted avg       0.51      0.52      0.51      6766\n",
      "\n"
     ]
    }
   ],
   "source": [
    "from sklearn.tree import DecisionTreeClassifier\n",
    "from sklearn.metrics import accuracy_score\n",
    "from sklearn.metrics import classification_report\n",
    "\n",
    " # Initialize the classifier\n",
    "clf = DecisionTreeClassifier()\n",
    "\n",
    " # Train the classifier\n",
    "clf.fit(X_train_2d, y_train)\n",
    "\n",
    " # Predict the labels of the test set\n",
    "y_pred = clf.predict(X_test_2d)\n",
    "\n",
    "# # Calculate the accuracy of the model\n",
    "accuracy = accuracy_score(y_test, y_pred)\n",
    "\n",
    "# # Print the accuracy of the model\n",
    "print(\"Accuracy:\", accuracy)\n",
    "\n",
    "# # Print the classfication report\n",
    "print(classification_report(y_test, y_pred))"
   ]
  },
  {
   "cell_type": "markdown",
   "metadata": {
    "id": "vX7uaF3iw_J5"
   },
   "source": [
    "Evaluating using Gradient Boosting"
   ]
  },
  {
   "cell_type": "code",
   "execution_count": 66,
   "metadata": {
    "colab": {
     "base_uri": "https://localhost:8080/"
    },
    "id": "5CpzKyd3ngg5",
    "outputId": "d10d2cae-7c23-4a25-a9be-c3569143371b"
   },
   "outputs": [
    {
     "name": "stdout",
     "output_type": "stream",
     "text": [
      "              precision    recall  f1-score   support\n",
      "\n",
      "          -1       0.56      0.26      0.36      2464\n",
      "           0       0.00      0.00      0.00       329\n",
      "           1       0.63      0.88      0.73      3973\n",
      "\n",
      "    accuracy                           0.61      6766\n",
      "   macro avg       0.39      0.38      0.36      6766\n",
      "weighted avg       0.57      0.61      0.56      6766\n",
      "\n"
     ]
    }
   ],
   "source": [
    "from sklearn.ensemble import GradientBoostingClassifier\n",
    "from sklearn.metrics import classification_report\n",
    "\n",
    "#1. creating a GradientBoosting model object\n",
    "clf = GradientBoostingClassifier()\n",
    "\n",
    "#2. fit with all_train_embeddings and y_train\n",
    "clf.fit(X_train_2d, y_train)\n",
    "\n",
    "\n",
    "#3. get the predictions for all_test_embeddings and store it in y_pred\n",
    "y_pred = clf.predict(X_test_2d)\n",
    "\n",
    "\n",
    "#4. print the classfication report\n",
    "print(classification_report(y_test, y_pred))"
   ]
  },
  {
   "cell_type": "markdown",
   "metadata": {
    "id": "X3G3XEQeOaEv"
   },
   "source": [
    "**2- Fasttext**"
   ]
  },
  {
   "cell_type": "code",
   "execution_count": 20,
   "metadata": {
    "id": "AU5QthjZUG5o"
   },
   "outputs": [],
   "source": [
    "model_ft = KeyedVectors.load_word2vec_format(\"cc.ar.300.vec\")"
   ]
  },
  {
   "cell_type": "code",
   "execution_count": 21,
   "metadata": {
    "id": "3Bl19DspOqUb"
   },
   "outputs": [],
   "source": [
    "df2 = df.copy()"
   ]
  },
  {
   "cell_type": "code",
   "execution_count": 24,
   "metadata": {
    "id": "AMNAQSNxRWUp"
   },
   "outputs": [],
   "source": [
    "df2  = df2.drop(['vector'], axis=1)"
   ]
  },
  {
   "cell_type": "code",
   "execution_count": 25,
   "metadata": {
    "id": "FP31c098Rr-I"
   },
   "outputs": [],
   "source": [
    "docs2 = []\n",
    "for doc in df2['review']:\n",
    "  docs2.append(doc)"
   ]
  },
  {
   "cell_type": "code",
   "execution_count": 26,
   "metadata": {
    "id": "r9AQeDTwSPGL"
   },
   "outputs": [],
   "source": [
    "def vectorize_fasttest(text):\n",
    "    vectors = []\n",
    "    tokens = word_tokenize(text)\n",
    "    for token in tokens:\n",
    "        try:\n",
    "            vectors.append(model_ft[token])\n",
    "        except KeyError:\n",
    "            continue\n",
    "    return np.mean(vectors, axis=0)\n"
   ]
  },
  {
   "cell_type": "code",
   "execution_count": 27,
   "metadata": {
    "colab": {
     "base_uri": "https://localhost:8080/",
     "height": 696
    },
    "id": "wkjBD2FGSteE",
    "outputId": "1d6238b4-44d5-443a-93ce-d52fdcf5e3a6"
   },
   "outputs": [
    {
     "name": "stderr",
     "output_type": "stream",
     "text": [
      "/usr/local/lib/python3.9/dist-packages/numpy/core/fromnumeric.py:3474: RuntimeWarning: Mean of empty slice.\n",
      "  return _methods._mean(a, axis=axis, dtype=dtype,\n"
     ]
    },
    {
     "data": {
      "text/html": [
       "\n",
       "  <div id=\"df-54d6f068-a9df-4a5d-b399-42a4fe5b8c80\">\n",
       "    <div class=\"colab-df-container\">\n",
       "      <div>\n",
       "<style scoped>\n",
       "    .dataframe tbody tr th:only-of-type {\n",
       "        vertical-align: middle;\n",
       "    }\n",
       "\n",
       "    .dataframe tbody tr th {\n",
       "        vertical-align: top;\n",
       "    }\n",
       "\n",
       "    .dataframe thead th {\n",
       "        text-align: right;\n",
       "    }\n",
       "</style>\n",
       "<table border=\"1\" class=\"dataframe\">\n",
       "  <thead>\n",
       "    <tr style=\"text-align: right;\">\n",
       "      <th></th>\n",
       "      <th>rating</th>\n",
       "      <th>company</th>\n",
       "      <th>review</th>\n",
       "      <th>vector</th>\n",
       "    </tr>\n",
       "  </thead>\n",
       "  <tbody>\n",
       "    <tr>\n",
       "      <th>0</th>\n",
       "      <td>1</td>\n",
       "      <td>talbat</td>\n",
       "      <td>رئع</td>\n",
       "      <td>[-0.1145, -0.0614, 0.0576, -0.2185, 0.3668, 0....</td>\n",
       "    </tr>\n",
       "    <tr>\n",
       "      <th>1</th>\n",
       "      <td>1</td>\n",
       "      <td>talbat</td>\n",
       "      <td>رنمج رئع جدا سعد لبه حيج شكل سرع</td>\n",
       "      <td>[-0.012542859, -0.0003999988, 0.025314286, 0.0...</td>\n",
       "    </tr>\n",
       "    <tr>\n",
       "      <th>2</th>\n",
       "      <td>-1</td>\n",
       "      <td>talbat</td>\n",
       "      <td>طبق غتح دائ يعط وجد تصل شبك انه الن عند تمم شو...</td>\n",
       "      <td>[-0.038458336, -0.05558333, 0.037875, 0.064475...</td>\n",
       "    </tr>\n",
       "    <tr>\n",
       "      <th>3</th>\n",
       "      <td>-1</td>\n",
       "      <td>talbat</td>\n",
       "      <td>لمذ يمك طلب ماكدونالدز؟</td>\n",
       "      <td>[0.058966666, -0.0006333335, 0.12616667, 0.026...</td>\n",
       "    </tr>\n",
       "    <tr>\n",
       "      <th>4</th>\n",
       "      <td>-1</td>\n",
       "      <td>talbat</td>\n",
       "      <td>رنمج ظهر طعم غلق انه بتك فتح بقل كده كتر شهر</td>\n",
       "      <td>[0.01135, -0.040400006, -0.038259998, 0.06482,...</td>\n",
       "    </tr>\n",
       "    <tr>\n",
       "      <th>...</th>\n",
       "      <td>...</td>\n",
       "      <td>...</td>\n",
       "      <td>...</td>\n",
       "      <td>...</td>\n",
       "    </tr>\n",
       "    <tr>\n",
       "      <th>38157</th>\n",
       "      <td>1</td>\n",
       "      <td>telecom_egypt</td>\n",
       "      <td>متز عمل متز سعر بلغ شوه</td>\n",
       "      <td>[-0.017383335, 0.0315, -0.02658333, 0.14483334...</td>\n",
       "    </tr>\n",
       "    <tr>\n",
       "      <th>38158</th>\n",
       "      <td>-1</td>\n",
       "      <td>telecom_egypt</td>\n",
       "      <td>رحل كوس حلة باص مش اد كده يري حدث باص حتي تكون...</td>\n",
       "      <td>[-0.05492353, -0.024970587, 0.0108, 0.07174118...</td>\n",
       "    </tr>\n",
       "    <tr>\n",
       "      <th>38159</th>\n",
       "      <td>-1</td>\n",
       "      <td>telecom_egypt</td>\n",
       "      <td>جرب جيد نقص عدم همم خدم عملاء عمل مره وصل شرك ...</td>\n",
       "      <td>[-0.04741177, 0.02565294, -0.009400002, 0.0430...</td>\n",
       "    </tr>\n",
       "    <tr>\n",
       "      <th>38160</th>\n",
       "      <td>-1</td>\n",
       "      <td>telecom_egypt</td>\n",
       "      <td>جيد لمذ وجد خطط كثر ريط يصل حتي ندي رمايه؟ رجو...</td>\n",
       "      <td>[0.013154546, -0.0057999995, 0.0126363635, 0.0...</td>\n",
       "    </tr>\n",
       "    <tr>\n",
       "      <th>38161</th>\n",
       "      <td>-1</td>\n",
       "      <td>telecom_egypt</td>\n",
       "      <td>طبق حلو جدا خدم متز سعر علي شوه</td>\n",
       "      <td>[-0.0025499985, -0.027862495, -0.00039999885, ...</td>\n",
       "    </tr>\n",
       "  </tbody>\n",
       "</table>\n",
       "<p>38162 rows × 4 columns</p>\n",
       "</div>\n",
       "      <button class=\"colab-df-convert\" onclick=\"convertToInteractive('df-54d6f068-a9df-4a5d-b399-42a4fe5b8c80')\"\n",
       "              title=\"Convert this dataframe to an interactive table.\"\n",
       "              style=\"display:none;\">\n",
       "        \n",
       "  <svg xmlns=\"http://www.w3.org/2000/svg\" height=\"24px\"viewBox=\"0 0 24 24\"\n",
       "       width=\"24px\">\n",
       "    <path d=\"M0 0h24v24H0V0z\" fill=\"none\"/>\n",
       "    <path d=\"M18.56 5.44l.94 2.06.94-2.06 2.06-.94-2.06-.94-.94-2.06-.94 2.06-2.06.94zm-11 1L8.5 8.5l.94-2.06 2.06-.94-2.06-.94L8.5 2.5l-.94 2.06-2.06.94zm10 10l.94 2.06.94-2.06 2.06-.94-2.06-.94-.94-2.06-.94 2.06-2.06.94z\"/><path d=\"M17.41 7.96l-1.37-1.37c-.4-.4-.92-.59-1.43-.59-.52 0-1.04.2-1.43.59L10.3 9.45l-7.72 7.72c-.78.78-.78 2.05 0 2.83L4 21.41c.39.39.9.59 1.41.59.51 0 1.02-.2 1.41-.59l7.78-7.78 2.81-2.81c.8-.78.8-2.07 0-2.86zM5.41 20L4 18.59l7.72-7.72 1.47 1.35L5.41 20z\"/>\n",
       "  </svg>\n",
       "      </button>\n",
       "      \n",
       "  <style>\n",
       "    .colab-df-container {\n",
       "      display:flex;\n",
       "      flex-wrap:wrap;\n",
       "      gap: 12px;\n",
       "    }\n",
       "\n",
       "    .colab-df-convert {\n",
       "      background-color: #E8F0FE;\n",
       "      border: none;\n",
       "      border-radius: 50%;\n",
       "      cursor: pointer;\n",
       "      display: none;\n",
       "      fill: #1967D2;\n",
       "      height: 32px;\n",
       "      padding: 0 0 0 0;\n",
       "      width: 32px;\n",
       "    }\n",
       "\n",
       "    .colab-df-convert:hover {\n",
       "      background-color: #E2EBFA;\n",
       "      box-shadow: 0px 1px 2px rgba(60, 64, 67, 0.3), 0px 1px 3px 1px rgba(60, 64, 67, 0.15);\n",
       "      fill: #174EA6;\n",
       "    }\n",
       "\n",
       "    [theme=dark] .colab-df-convert {\n",
       "      background-color: #3B4455;\n",
       "      fill: #D2E3FC;\n",
       "    }\n",
       "\n",
       "    [theme=dark] .colab-df-convert:hover {\n",
       "      background-color: #434B5C;\n",
       "      box-shadow: 0px 1px 3px 1px rgba(0, 0, 0, 0.15);\n",
       "      filter: drop-shadow(0px 1px 2px rgba(0, 0, 0, 0.3));\n",
       "      fill: #FFFFFF;\n",
       "    }\n",
       "  </style>\n",
       "\n",
       "      <script>\n",
       "        const buttonEl =\n",
       "          document.querySelector('#df-54d6f068-a9df-4a5d-b399-42a4fe5b8c80 button.colab-df-convert');\n",
       "        buttonEl.style.display =\n",
       "          google.colab.kernel.accessAllowed ? 'block' : 'none';\n",
       "\n",
       "        async function convertToInteractive(key) {\n",
       "          const element = document.querySelector('#df-54d6f068-a9df-4a5d-b399-42a4fe5b8c80');\n",
       "          const dataTable =\n",
       "            await google.colab.kernel.invokeFunction('convertToInteractive',\n",
       "                                                     [key], {});\n",
       "          if (!dataTable) return;\n",
       "\n",
       "          const docLinkHtml = 'Like what you see? Visit the ' +\n",
       "            '<a target=\"_blank\" href=https://colab.research.google.com/notebooks/data_table.ipynb>data table notebook</a>'\n",
       "            + ' to learn more about interactive tables.';\n",
       "          element.innerHTML = '';\n",
       "          dataTable['output_type'] = 'display_data';\n",
       "          await google.colab.output.renderOutput(dataTable, element);\n",
       "          const docLink = document.createElement('div');\n",
       "          docLink.innerHTML = docLinkHtml;\n",
       "          element.appendChild(docLink);\n",
       "        }\n",
       "      </script>\n",
       "    </div>\n",
       "  </div>\n",
       "  "
      ],
      "text/plain": [
       "       rating        company  \\\n",
       "0           1         talbat   \n",
       "1           1         talbat   \n",
       "2          -1         talbat   \n",
       "3          -1         talbat   \n",
       "4          -1         talbat   \n",
       "...       ...            ...   \n",
       "38157       1  telecom_egypt   \n",
       "38158      -1  telecom_egypt   \n",
       "38159      -1  telecom_egypt   \n",
       "38160      -1  telecom_egypt   \n",
       "38161      -1  telecom_egypt   \n",
       "\n",
       "                                                  review  \\\n",
       "0                                                    رئع   \n",
       "1                       رنمج رئع جدا سعد لبه حيج شكل سرع   \n",
       "2      طبق غتح دائ يعط وجد تصل شبك انه الن عند تمم شو...   \n",
       "3                                لمذ يمك طلب ماكدونالدز؟   \n",
       "4           رنمج ظهر طعم غلق انه بتك فتح بقل كده كتر شهر   \n",
       "...                                                  ...   \n",
       "38157                            متز عمل متز سعر بلغ شوه   \n",
       "38158  رحل كوس حلة باص مش اد كده يري حدث باص حتي تكون...   \n",
       "38159  جرب جيد نقص عدم همم خدم عملاء عمل مره وصل شرك ...   \n",
       "38160  جيد لمذ وجد خطط كثر ريط يصل حتي ندي رمايه؟ رجو...   \n",
       "38161                    طبق حلو جدا خدم متز سعر علي شوه   \n",
       "\n",
       "                                                  vector  \n",
       "0      [-0.1145, -0.0614, 0.0576, -0.2185, 0.3668, 0....  \n",
       "1      [-0.012542859, -0.0003999988, 0.025314286, 0.0...  \n",
       "2      [-0.038458336, -0.05558333, 0.037875, 0.064475...  \n",
       "3      [0.058966666, -0.0006333335, 0.12616667, 0.026...  \n",
       "4      [0.01135, -0.040400006, -0.038259998, 0.06482,...  \n",
       "...                                                  ...  \n",
       "38157  [-0.017383335, 0.0315, -0.02658333, 0.14483334...  \n",
       "38158  [-0.05492353, -0.024970587, 0.0108, 0.07174118...  \n",
       "38159  [-0.04741177, 0.02565294, -0.009400002, 0.0430...  \n",
       "38160  [0.013154546, -0.0057999995, 0.0126363635, 0.0...  \n",
       "38161  [-0.0025499985, -0.027862495, -0.00039999885, ...  \n",
       "\n",
       "[38162 rows x 4 columns]"
      ]
     },
     "execution_count": 27,
     "metadata": {},
     "output_type": "execute_result"
    }
   ],
   "source": [
    "df2['vector'] = df2['review'].apply(lambda text: vectorize_fasttest(text))\n",
    "df2"
   ]
  },
  {
   "cell_type": "code",
   "execution_count": 59,
   "metadata": {
    "id": "U1SB9vFxk6jZ"
   },
   "outputs": [],
   "source": [
    "df2 = df2.dropna()"
   ]
  },
  {
   "cell_type": "code",
   "execution_count": 67,
   "metadata": {
    "id": "2ybQ8ywLUDR5"
   },
   "outputs": [],
   "source": [
    "from sklearn.model_selection import train_test_split\n",
    "X_train, X_test, y_train, y_test = train_test_split(\n",
    "    df2.vector.values, \n",
    "    df2.rating, \n",
    "    test_size=0.2, # 20% samples will go to test dataset\n",
    "    random_state=2022,\n",
    "    stratify=df2.rating\n",
    ")"
   ]
  },
  {
   "cell_type": "code",
   "execution_count": 68,
   "metadata": {
    "colab": {
     "base_uri": "https://localhost:8080/"
    },
    "id": "2xqkr8DlXpV7",
    "outputId": "eff65d4a-220c-4664-b68b-7a1438aadd38"
   },
   "outputs": [
    {
     "name": "stdout",
     "output_type": "stream",
     "text": [
      "Shape of X_train before reshaping:  (29252,)\n",
      "Shape of X_test before reshaping:  (7313,)\n",
      "Shape of X_train after reshaping:  (29252, 300)\n",
      "Shape of X_test after reshaping:  (7313, 300)\n"
     ]
    }
   ],
   "source": [
    "print(\"Shape of X_train before reshaping: \", X_train.shape)\n",
    "print(\"Shape of X_test before reshaping: \", X_test.shape)\n",
    "\n",
    "X_train_2d = np.stack(X_train)\n",
    "X_test_2d =  np.stack(X_test)\n",
    "\n",
    "print(\"Shape of X_train after reshaping: \", X_train_2d.shape)\n",
    "print(\"Shape of X_test after reshaping: \", X_test_2d.shape)"
   ]
  },
  {
   "cell_type": "markdown",
   "metadata": {
    "id": "1t4icgM-xSLz"
   },
   "source": [
    "Evaluating using Decision Tree"
   ]
  },
  {
   "cell_type": "code",
   "execution_count": 69,
   "metadata": {
    "colab": {
     "base_uri": "https://localhost:8080/"
    },
    "id": "t15Q49eKUmBG",
    "outputId": "942dd9f1-b1aa-40de-aac6-04fcb9a0cf7f"
   },
   "outputs": [
    {
     "name": "stdout",
     "output_type": "stream",
     "text": [
      "Accuracy: 0.5044441405715848\n",
      "              precision    recall  f1-score   support\n",
      "\n",
      "          -1       0.39      0.39      0.39      2618\n",
      "           0       0.04      0.05      0.04       353\n",
      "           1       0.62      0.61      0.61      4342\n",
      "\n",
      "    accuracy                           0.50      7313\n",
      "   macro avg       0.35      0.35      0.35      7313\n",
      "weighted avg       0.51      0.50      0.51      7313\n",
      "\n"
     ]
    }
   ],
   "source": [
    "from sklearn.tree import DecisionTreeClassifier\n",
    "from sklearn.metrics import accuracy_score\n",
    "from sklearn.metrics import classification_report\n",
    "\n",
    " # Initialize the classifier\n",
    "clf = DecisionTreeClassifier()\n",
    "\n",
    "# # Train the classifier\n",
    "clf.fit(X_train_2d, y_train)\n",
    "\n",
    "# # Predict the labels of the test set\n",
    "y_pred = clf.predict(X_test_2d)\n",
    "\n",
    "# # Calculate the accuracy of the model\n",
    "accuracy = accuracy_score(y_test, y_pred)\n",
    "\n",
    "# # Print the accuracy of the model\n",
    "print(\"Accuracy:\", accuracy)\n",
    "\n",
    "# # Print the classfication report\n",
    "print(classification_report(y_test, y_pred))"
   ]
  },
  {
   "cell_type": "markdown",
   "metadata": {
    "id": "Hk5KRnOBxN0i"
   },
   "source": [
    "Evaluating using Gradient Boosting"
   ]
  },
  {
   "cell_type": "code",
   "execution_count": 70,
   "metadata": {
    "colab": {
     "base_uri": "https://localhost:8080/"
    },
    "id": "hHWNH5wvpSFz",
    "outputId": "c2f31891-cb93-4170-dbf1-090e218c3e6a"
   },
   "outputs": [
    {
     "name": "stdout",
     "output_type": "stream",
     "text": [
      "              precision    recall  f1-score   support\n",
      "\n",
      "          -1       0.54      0.27      0.36      2618\n",
      "           0       0.00      0.00      0.00       353\n",
      "           1       0.63      0.87      0.73      4342\n",
      "\n",
      "    accuracy                           0.62      7313\n",
      "   macro avg       0.39      0.38      0.36      7313\n",
      "weighted avg       0.57      0.62      0.56      7313\n",
      "\n"
     ]
    }
   ],
   "source": [
    "from sklearn.ensemble import GradientBoostingClassifier\n",
    "from sklearn.metrics import classification_report\n",
    "\n",
    "#1. creating a GradientBoosting model object\n",
    "clf = GradientBoostingClassifier()\n",
    "\n",
    "#2. fit with all_train_embeddings and y_train\n",
    "clf.fit(X_train_2d, y_train)\n",
    "\n",
    "\n",
    "#3. get the predictions for all_test_embeddings and store it in y_pred\n",
    "y_pred = clf.predict(X_test_2d)\n",
    "\n",
    "\n",
    "#4. print the classfication report\n",
    "print(classification_report(y_test, y_pred))"
   ]
  },
  {
   "cell_type": "code",
   "execution_count": 19,
   "metadata": {
    "id": "WUnCo6sN5Nb5"
   },
   "outputs": [],
   "source": [
    "# %%shell\n",
    "# jupyter nbconvert --to html /content/NLP_Task02.ipynb"
   ]
  },
  {
   "cell_type": "code",
   "execution_count": null,
   "metadata": {
    "id": "-hBDejllVGKg"
   },
   "outputs": [],
   "source": []
  }
 ],
 "metadata": {
  "colab": {
   "provenance": []
  },
  "kernelspec": {
   "display_name": "Python 3 (ipykernel)",
   "language": "python",
   "name": "python3"
  },
  "language_info": {
   "codemirror_mode": {
    "name": "ipython",
    "version": 3
   },
   "file_extension": ".py",
   "mimetype": "text/x-python",
   "name": "python",
   "nbconvert_exporter": "python",
   "pygments_lexer": "ipython3",
   "version": "3.9.7"
  }
 },
 "nbformat": 4,
 "nbformat_minor": 1
}
