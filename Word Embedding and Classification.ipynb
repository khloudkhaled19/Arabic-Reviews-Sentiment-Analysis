{
  "cells": [
    {
      "cell_type": "code",
      "execution_count": null,
      "metadata": {
        "colab": {
          "base_uri": "https://localhost:8080/"
        },
        "id": "RL6bt8TBfzll",
        "outputId": "6e3d6b95-2cb1-48ff-b710-87d1b6aa579c"
      },
      "outputs": [
        {
          "output_type": "stream",
          "name": "stderr",
          "text": [
            "[nltk_data] Downloading package punkt to /root/nltk_data...\n",
            "[nltk_data]   Unzipping tokenizers/punkt.zip.\n"
          ]
        }
      ],
      "source": [
        "import pandas as pd\n",
        "import numpy as np\n",
        "from sklearn.model_selection import train_test_split\n",
        "import tensorflow as tf\n",
        "from keras.preprocessing.text import Tokenizer\n",
        "import gensim\n",
        "from gensim.models import KeyedVectors\n",
        "from gensim.models import word2vec\n",
        "import spacy\n",
        "import gensim.downloader as api\n",
        "from gensim.models.word2vec import Word2Vec\n",
        "import nltk\n",
        "from nltk.tokenize import word_tokenize\n",
        "nltk.download('punkt')\n",
        "import re\n"
      ]
    },
    {
      "cell_type": "code",
      "execution_count": null,
      "metadata": {
        "id": "ct1gjpKpf798"
      },
      "outputs": [],
      "source": [
        "nlp = spacy.load(\"en_core_web_sm\")"
      ]
    },
    {
      "cell_type": "code",
      "execution_count": null,
      "metadata": {
        "id": "DcVMvbeDpJlK"
      },
      "outputs": [],
      "source": [
        "from google.colab import drive\n",
        "#!unzip gdrive/My\\ Drive/data/train.zip\n",
        "df = pd.read_csv('/content/drive/MyDrive/cleaned_review.csv')"
      ]
    },
    {
      "cell_type": "code",
      "execution_count": null,
      "metadata": {
        "colab": {
          "base_uri": "https://localhost:8080/",
          "height": 554
        },
        "id": "hL7mKX3ktZ5J",
        "outputId": "aa706bb7-0dfa-43a8-b692-7fa28f5d946d"
      },
      "outputs": [
        {
          "output_type": "execute_result",
          "data": {
            "text/plain": [
              "       Unnamed: 0.1  Unnamed: 0  rating        company  \\\n",
              "0                 0           0       1         talbat   \n",
              "1                 1           1       1         talbat   \n",
              "2                 2           2      -1         talbat   \n",
              "3                 3           3      -1         talbat   \n",
              "4                 4           4      -1         talbat   \n",
              "...             ...         ...     ...            ...   \n",
              "38157         38996       38996       1  telecom_egypt   \n",
              "38158         38997       38997      -1  telecom_egypt   \n",
              "38159         38998       38998      -1  telecom_egypt   \n",
              "38160         39000       39000      -1  telecom_egypt   \n",
              "38161         39002       39002      -1  telecom_egypt   \n",
              "\n",
              "                                                  review  \n",
              "0                                                    رئع  \n",
              "1                       رنمج رئع جدا سعد لبه حيج شكل سرع  \n",
              "2      طبق غتح دائ يعط وجد تصل شبك انه الن عند تمم شو...  \n",
              "3                                لمذ يمك طلب ماكدونالدز؟  \n",
              "4           رنمج ظهر طعم غلق انه بتك فتح بقل كده كتر شهر  \n",
              "...                                                  ...  \n",
              "38157                            متز عمل متز سعر بلغ شوه  \n",
              "38158  رحل كوس حلة باص مش اد كده يري حدث باص حتي تكون...  \n",
              "38159  جرب جيد نقص عدم همم خدم عملاء عمل مره وصل شرك ...  \n",
              "38160  جيد لمذ وجد خطط كثر ريط يصل حتي ندي رمايه؟ رجو...  \n",
              "38161                    طبق حلو جدا خدم متز سعر علي شوه  \n",
              "\n",
              "[38162 rows x 5 columns]"
            ],
            "text/html": [
              "\n",
              "  <div id=\"df-de8c742d-2091-44c6-9c98-a222014eebb9\">\n",
              "    <div class=\"colab-df-container\">\n",
              "      <div>\n",
              "<style scoped>\n",
              "    .dataframe tbody tr th:only-of-type {\n",
              "        vertical-align: middle;\n",
              "    }\n",
              "\n",
              "    .dataframe tbody tr th {\n",
              "        vertical-align: top;\n",
              "    }\n",
              "\n",
              "    .dataframe thead th {\n",
              "        text-align: right;\n",
              "    }\n",
              "</style>\n",
              "<table border=\"1\" class=\"dataframe\">\n",
              "  <thead>\n",
              "    <tr style=\"text-align: right;\">\n",
              "      <th></th>\n",
              "      <th>Unnamed: 0.1</th>\n",
              "      <th>Unnamed: 0</th>\n",
              "      <th>rating</th>\n",
              "      <th>company</th>\n",
              "      <th>review</th>\n",
              "    </tr>\n",
              "  </thead>\n",
              "  <tbody>\n",
              "    <tr>\n",
              "      <th>0</th>\n",
              "      <td>0</td>\n",
              "      <td>0</td>\n",
              "      <td>1</td>\n",
              "      <td>talbat</td>\n",
              "      <td>رئع</td>\n",
              "    </tr>\n",
              "    <tr>\n",
              "      <th>1</th>\n",
              "      <td>1</td>\n",
              "      <td>1</td>\n",
              "      <td>1</td>\n",
              "      <td>talbat</td>\n",
              "      <td>رنمج رئع جدا سعد لبه حيج شكل سرع</td>\n",
              "    </tr>\n",
              "    <tr>\n",
              "      <th>2</th>\n",
              "      <td>2</td>\n",
              "      <td>2</td>\n",
              "      <td>-1</td>\n",
              "      <td>talbat</td>\n",
              "      <td>طبق غتح دائ يعط وجد تصل شبك انه الن عند تمم شو...</td>\n",
              "    </tr>\n",
              "    <tr>\n",
              "      <th>3</th>\n",
              "      <td>3</td>\n",
              "      <td>3</td>\n",
              "      <td>-1</td>\n",
              "      <td>talbat</td>\n",
              "      <td>لمذ يمك طلب ماكدونالدز؟</td>\n",
              "    </tr>\n",
              "    <tr>\n",
              "      <th>4</th>\n",
              "      <td>4</td>\n",
              "      <td>4</td>\n",
              "      <td>-1</td>\n",
              "      <td>talbat</td>\n",
              "      <td>رنمج ظهر طعم غلق انه بتك فتح بقل كده كتر شهر</td>\n",
              "    </tr>\n",
              "    <tr>\n",
              "      <th>...</th>\n",
              "      <td>...</td>\n",
              "      <td>...</td>\n",
              "      <td>...</td>\n",
              "      <td>...</td>\n",
              "      <td>...</td>\n",
              "    </tr>\n",
              "    <tr>\n",
              "      <th>38157</th>\n",
              "      <td>38996</td>\n",
              "      <td>38996</td>\n",
              "      <td>1</td>\n",
              "      <td>telecom_egypt</td>\n",
              "      <td>متز عمل متز سعر بلغ شوه</td>\n",
              "    </tr>\n",
              "    <tr>\n",
              "      <th>38158</th>\n",
              "      <td>38997</td>\n",
              "      <td>38997</td>\n",
              "      <td>-1</td>\n",
              "      <td>telecom_egypt</td>\n",
              "      <td>رحل كوس حلة باص مش اد كده يري حدث باص حتي تكون...</td>\n",
              "    </tr>\n",
              "    <tr>\n",
              "      <th>38159</th>\n",
              "      <td>38998</td>\n",
              "      <td>38998</td>\n",
              "      <td>-1</td>\n",
              "      <td>telecom_egypt</td>\n",
              "      <td>جرب جيد نقص عدم همم خدم عملاء عمل مره وصل شرك ...</td>\n",
              "    </tr>\n",
              "    <tr>\n",
              "      <th>38160</th>\n",
              "      <td>39000</td>\n",
              "      <td>39000</td>\n",
              "      <td>-1</td>\n",
              "      <td>telecom_egypt</td>\n",
              "      <td>جيد لمذ وجد خطط كثر ريط يصل حتي ندي رمايه؟ رجو...</td>\n",
              "    </tr>\n",
              "    <tr>\n",
              "      <th>38161</th>\n",
              "      <td>39002</td>\n",
              "      <td>39002</td>\n",
              "      <td>-1</td>\n",
              "      <td>telecom_egypt</td>\n",
              "      <td>طبق حلو جدا خدم متز سعر علي شوه</td>\n",
              "    </tr>\n",
              "  </tbody>\n",
              "</table>\n",
              "<p>38162 rows × 5 columns</p>\n",
              "</div>\n",
              "      <button class=\"colab-df-convert\" onclick=\"convertToInteractive('df-de8c742d-2091-44c6-9c98-a222014eebb9')\"\n",
              "              title=\"Convert this dataframe to an interactive table.\"\n",
              "              style=\"display:none;\">\n",
              "        \n",
              "  <svg xmlns=\"http://www.w3.org/2000/svg\" height=\"24px\"viewBox=\"0 0 24 24\"\n",
              "       width=\"24px\">\n",
              "    <path d=\"M0 0h24v24H0V0z\" fill=\"none\"/>\n",
              "    <path d=\"M18.56 5.44l.94 2.06.94-2.06 2.06-.94-2.06-.94-.94-2.06-.94 2.06-2.06.94zm-11 1L8.5 8.5l.94-2.06 2.06-.94-2.06-.94L8.5 2.5l-.94 2.06-2.06.94zm10 10l.94 2.06.94-2.06 2.06-.94-2.06-.94-.94-2.06-.94 2.06-2.06.94z\"/><path d=\"M17.41 7.96l-1.37-1.37c-.4-.4-.92-.59-1.43-.59-.52 0-1.04.2-1.43.59L10.3 9.45l-7.72 7.72c-.78.78-.78 2.05 0 2.83L4 21.41c.39.39.9.59 1.41.59.51 0 1.02-.2 1.41-.59l7.78-7.78 2.81-2.81c.8-.78.8-2.07 0-2.86zM5.41 20L4 18.59l7.72-7.72 1.47 1.35L5.41 20z\"/>\n",
              "  </svg>\n",
              "      </button>\n",
              "      \n",
              "  <style>\n",
              "    .colab-df-container {\n",
              "      display:flex;\n",
              "      flex-wrap:wrap;\n",
              "      gap: 12px;\n",
              "    }\n",
              "\n",
              "    .colab-df-convert {\n",
              "      background-color: #E8F0FE;\n",
              "      border: none;\n",
              "      border-radius: 50%;\n",
              "      cursor: pointer;\n",
              "      display: none;\n",
              "      fill: #1967D2;\n",
              "      height: 32px;\n",
              "      padding: 0 0 0 0;\n",
              "      width: 32px;\n",
              "    }\n",
              "\n",
              "    .colab-df-convert:hover {\n",
              "      background-color: #E2EBFA;\n",
              "      box-shadow: 0px 1px 2px rgba(60, 64, 67, 0.3), 0px 1px 3px 1px rgba(60, 64, 67, 0.15);\n",
              "      fill: #174EA6;\n",
              "    }\n",
              "\n",
              "    [theme=dark] .colab-df-convert {\n",
              "      background-color: #3B4455;\n",
              "      fill: #D2E3FC;\n",
              "    }\n",
              "\n",
              "    [theme=dark] .colab-df-convert:hover {\n",
              "      background-color: #434B5C;\n",
              "      box-shadow: 0px 1px 3px 1px rgba(0, 0, 0, 0.15);\n",
              "      filter: drop-shadow(0px 1px 2px rgba(0, 0, 0, 0.3));\n",
              "      fill: #FFFFFF;\n",
              "    }\n",
              "  </style>\n",
              "\n",
              "      <script>\n",
              "        const buttonEl =\n",
              "          document.querySelector('#df-de8c742d-2091-44c6-9c98-a222014eebb9 button.colab-df-convert');\n",
              "        buttonEl.style.display =\n",
              "          google.colab.kernel.accessAllowed ? 'block' : 'none';\n",
              "\n",
              "        async function convertToInteractive(key) {\n",
              "          const element = document.querySelector('#df-de8c742d-2091-44c6-9c98-a222014eebb9');\n",
              "          const dataTable =\n",
              "            await google.colab.kernel.invokeFunction('convertToInteractive',\n",
              "                                                     [key], {});\n",
              "          if (!dataTable) return;\n",
              "\n",
              "          const docLinkHtml = 'Like what you see? Visit the ' +\n",
              "            '<a target=\"_blank\" href=https://colab.research.google.com/notebooks/data_table.ipynb>data table notebook</a>'\n",
              "            + ' to learn more about interactive tables.';\n",
              "          element.innerHTML = '';\n",
              "          dataTable['output_type'] = 'display_data';\n",
              "          await google.colab.output.renderOutput(dataTable, element);\n",
              "          const docLink = document.createElement('div');\n",
              "          docLink.innerHTML = docLinkHtml;\n",
              "          element.appendChild(docLink);\n",
              "        }\n",
              "      </script>\n",
              "    </div>\n",
              "  </div>\n",
              "  "
            ]
          },
          "metadata": {},
          "execution_count": 4
        }
      ],
      "source": [
        "df"
      ]
    },
    {
      "cell_type": "code",
      "execution_count": null,
      "metadata": {
        "id": "nZfGMHyrslfD"
      },
      "outputs": [],
      "source": [
        "df = df.drop(['Unnamed: 0.1'], axis=1)\n",
        "df = df.drop(['Unnamed: 0'], axis=1)"
      ]
    },
    {
      "cell_type": "code",
      "execution_count": null,
      "metadata": {
        "colab": {
          "base_uri": "https://localhost:8080/",
          "height": 423
        },
        "id": "6Y5zuuE-t8uB",
        "outputId": "34a0a7a9-6d06-4c14-c33a-10dbb9e198fa"
      },
      "outputs": [
        {
          "output_type": "execute_result",
          "data": {
            "text/plain": [
              "       rating        company  \\\n",
              "0           1         talbat   \n",
              "1           1         talbat   \n",
              "2          -1         talbat   \n",
              "3          -1         talbat   \n",
              "4          -1         talbat   \n",
              "...       ...            ...   \n",
              "38157       1  telecom_egypt   \n",
              "38158      -1  telecom_egypt   \n",
              "38159      -1  telecom_egypt   \n",
              "38160      -1  telecom_egypt   \n",
              "38161      -1  telecom_egypt   \n",
              "\n",
              "                                                  review  \n",
              "0                                                    رئع  \n",
              "1                       رنمج رئع جدا سعد لبه حيج شكل سرع  \n",
              "2      طبق غتح دائ يعط وجد تصل شبك انه الن عند تمم شو...  \n",
              "3                                لمذ يمك طلب ماكدونالدز؟  \n",
              "4           رنمج ظهر طعم غلق انه بتك فتح بقل كده كتر شهر  \n",
              "...                                                  ...  \n",
              "38157                            متز عمل متز سعر بلغ شوه  \n",
              "38158  رحل كوس حلة باص مش اد كده يري حدث باص حتي تكون...  \n",
              "38159  جرب جيد نقص عدم همم خدم عملاء عمل مره وصل شرك ...  \n",
              "38160  جيد لمذ وجد خطط كثر ريط يصل حتي ندي رمايه؟ رجو...  \n",
              "38161                    طبق حلو جدا خدم متز سعر علي شوه  \n",
              "\n",
              "[38162 rows x 3 columns]"
            ],
            "text/html": [
              "\n",
              "  <div id=\"df-e689e8fd-57f3-423a-a0d0-0d63b6d44cdc\">\n",
              "    <div class=\"colab-df-container\">\n",
              "      <div>\n",
              "<style scoped>\n",
              "    .dataframe tbody tr th:only-of-type {\n",
              "        vertical-align: middle;\n",
              "    }\n",
              "\n",
              "    .dataframe tbody tr th {\n",
              "        vertical-align: top;\n",
              "    }\n",
              "\n",
              "    .dataframe thead th {\n",
              "        text-align: right;\n",
              "    }\n",
              "</style>\n",
              "<table border=\"1\" class=\"dataframe\">\n",
              "  <thead>\n",
              "    <tr style=\"text-align: right;\">\n",
              "      <th></th>\n",
              "      <th>rating</th>\n",
              "      <th>company</th>\n",
              "      <th>review</th>\n",
              "    </tr>\n",
              "  </thead>\n",
              "  <tbody>\n",
              "    <tr>\n",
              "      <th>0</th>\n",
              "      <td>1</td>\n",
              "      <td>talbat</td>\n",
              "      <td>رئع</td>\n",
              "    </tr>\n",
              "    <tr>\n",
              "      <th>1</th>\n",
              "      <td>1</td>\n",
              "      <td>talbat</td>\n",
              "      <td>رنمج رئع جدا سعد لبه حيج شكل سرع</td>\n",
              "    </tr>\n",
              "    <tr>\n",
              "      <th>2</th>\n",
              "      <td>-1</td>\n",
              "      <td>talbat</td>\n",
              "      <td>طبق غتح دائ يعط وجد تصل شبك انه الن عند تمم شو...</td>\n",
              "    </tr>\n",
              "    <tr>\n",
              "      <th>3</th>\n",
              "      <td>-1</td>\n",
              "      <td>talbat</td>\n",
              "      <td>لمذ يمك طلب ماكدونالدز؟</td>\n",
              "    </tr>\n",
              "    <tr>\n",
              "      <th>4</th>\n",
              "      <td>-1</td>\n",
              "      <td>talbat</td>\n",
              "      <td>رنمج ظهر طعم غلق انه بتك فتح بقل كده كتر شهر</td>\n",
              "    </tr>\n",
              "    <tr>\n",
              "      <th>...</th>\n",
              "      <td>...</td>\n",
              "      <td>...</td>\n",
              "      <td>...</td>\n",
              "    </tr>\n",
              "    <tr>\n",
              "      <th>38157</th>\n",
              "      <td>1</td>\n",
              "      <td>telecom_egypt</td>\n",
              "      <td>متز عمل متز سعر بلغ شوه</td>\n",
              "    </tr>\n",
              "    <tr>\n",
              "      <th>38158</th>\n",
              "      <td>-1</td>\n",
              "      <td>telecom_egypt</td>\n",
              "      <td>رحل كوس حلة باص مش اد كده يري حدث باص حتي تكون...</td>\n",
              "    </tr>\n",
              "    <tr>\n",
              "      <th>38159</th>\n",
              "      <td>-1</td>\n",
              "      <td>telecom_egypt</td>\n",
              "      <td>جرب جيد نقص عدم همم خدم عملاء عمل مره وصل شرك ...</td>\n",
              "    </tr>\n",
              "    <tr>\n",
              "      <th>38160</th>\n",
              "      <td>-1</td>\n",
              "      <td>telecom_egypt</td>\n",
              "      <td>جيد لمذ وجد خطط كثر ريط يصل حتي ندي رمايه؟ رجو...</td>\n",
              "    </tr>\n",
              "    <tr>\n",
              "      <th>38161</th>\n",
              "      <td>-1</td>\n",
              "      <td>telecom_egypt</td>\n",
              "      <td>طبق حلو جدا خدم متز سعر علي شوه</td>\n",
              "    </tr>\n",
              "  </tbody>\n",
              "</table>\n",
              "<p>38162 rows × 3 columns</p>\n",
              "</div>\n",
              "      <button class=\"colab-df-convert\" onclick=\"convertToInteractive('df-e689e8fd-57f3-423a-a0d0-0d63b6d44cdc')\"\n",
              "              title=\"Convert this dataframe to an interactive table.\"\n",
              "              style=\"display:none;\">\n",
              "        \n",
              "  <svg xmlns=\"http://www.w3.org/2000/svg\" height=\"24px\"viewBox=\"0 0 24 24\"\n",
              "       width=\"24px\">\n",
              "    <path d=\"M0 0h24v24H0V0z\" fill=\"none\"/>\n",
              "    <path d=\"M18.56 5.44l.94 2.06.94-2.06 2.06-.94-2.06-.94-.94-2.06-.94 2.06-2.06.94zm-11 1L8.5 8.5l.94-2.06 2.06-.94-2.06-.94L8.5 2.5l-.94 2.06-2.06.94zm10 10l.94 2.06.94-2.06 2.06-.94-2.06-.94-.94-2.06-.94 2.06-2.06.94z\"/><path d=\"M17.41 7.96l-1.37-1.37c-.4-.4-.92-.59-1.43-.59-.52 0-1.04.2-1.43.59L10.3 9.45l-7.72 7.72c-.78.78-.78 2.05 0 2.83L4 21.41c.39.39.9.59 1.41.59.51 0 1.02-.2 1.41-.59l7.78-7.78 2.81-2.81c.8-.78.8-2.07 0-2.86zM5.41 20L4 18.59l7.72-7.72 1.47 1.35L5.41 20z\"/>\n",
              "  </svg>\n",
              "      </button>\n",
              "      \n",
              "  <style>\n",
              "    .colab-df-container {\n",
              "      display:flex;\n",
              "      flex-wrap:wrap;\n",
              "      gap: 12px;\n",
              "    }\n",
              "\n",
              "    .colab-df-convert {\n",
              "      background-color: #E8F0FE;\n",
              "      border: none;\n",
              "      border-radius: 50%;\n",
              "      cursor: pointer;\n",
              "      display: none;\n",
              "      fill: #1967D2;\n",
              "      height: 32px;\n",
              "      padding: 0 0 0 0;\n",
              "      width: 32px;\n",
              "    }\n",
              "\n",
              "    .colab-df-convert:hover {\n",
              "      background-color: #E2EBFA;\n",
              "      box-shadow: 0px 1px 2px rgba(60, 64, 67, 0.3), 0px 1px 3px 1px rgba(60, 64, 67, 0.15);\n",
              "      fill: #174EA6;\n",
              "    }\n",
              "\n",
              "    [theme=dark] .colab-df-convert {\n",
              "      background-color: #3B4455;\n",
              "      fill: #D2E3FC;\n",
              "    }\n",
              "\n",
              "    [theme=dark] .colab-df-convert:hover {\n",
              "      background-color: #434B5C;\n",
              "      box-shadow: 0px 1px 3px 1px rgba(0, 0, 0, 0.15);\n",
              "      filter: drop-shadow(0px 1px 2px rgba(0, 0, 0, 0.3));\n",
              "      fill: #FFFFFF;\n",
              "    }\n",
              "  </style>\n",
              "\n",
              "      <script>\n",
              "        const buttonEl =\n",
              "          document.querySelector('#df-e689e8fd-57f3-423a-a0d0-0d63b6d44cdc button.colab-df-convert');\n",
              "        buttonEl.style.display =\n",
              "          google.colab.kernel.accessAllowed ? 'block' : 'none';\n",
              "\n",
              "        async function convertToInteractive(key) {\n",
              "          const element = document.querySelector('#df-e689e8fd-57f3-423a-a0d0-0d63b6d44cdc');\n",
              "          const dataTable =\n",
              "            await google.colab.kernel.invokeFunction('convertToInteractive',\n",
              "                                                     [key], {});\n",
              "          if (!dataTable) return;\n",
              "\n",
              "          const docLinkHtml = 'Like what you see? Visit the ' +\n",
              "            '<a target=\"_blank\" href=https://colab.research.google.com/notebooks/data_table.ipynb>data table notebook</a>'\n",
              "            + ' to learn more about interactive tables.';\n",
              "          element.innerHTML = '';\n",
              "          dataTable['output_type'] = 'display_data';\n",
              "          await google.colab.output.renderOutput(dataTable, element);\n",
              "          const docLink = document.createElement('div');\n",
              "          docLink.innerHTML = docLinkHtml;\n",
              "          element.appendChild(docLink);\n",
              "        }\n",
              "      </script>\n",
              "    </div>\n",
              "  </div>\n",
              "  "
            ]
          },
          "metadata": {},
          "execution_count": 6
        }
      ],
      "source": [
        "df"
      ]
    },
    {
      "cell_type": "code",
      "execution_count": null,
      "metadata": {
        "colab": {
          "base_uri": "https://localhost:8080/"
        },
        "id": "3NwWZmImBxFX",
        "outputId": "d0d25c06-7ae7-4b1c-8ac4-e6ec7523e601"
      },
      "outputs": [
        {
          "output_type": "stream",
          "name": "stdout",
          "text": [
            "<class 'pandas.core.frame.DataFrame'>\n",
            "RangeIndex: 38162 entries, 0 to 38161\n",
            "Data columns (total 3 columns):\n",
            " #   Column   Non-Null Count  Dtype \n",
            "---  ------   --------------  ----- \n",
            " 0   rating   38162 non-null  int64 \n",
            " 1   company  38162 non-null  object\n",
            " 2   review   37459 non-null  object\n",
            "dtypes: int64(1), object(2)\n",
            "memory usage: 894.5+ KB\n"
          ]
        }
      ],
      "source": [
        "df.info()"
      ]
    },
    {
      "cell_type": "code",
      "execution_count": null,
      "metadata": {
        "id": "MHikEfK5DE1N"
      },
      "outputs": [],
      "source": [
        "df = df.astype({'review': 'str'})"
      ]
    },
    {
      "cell_type": "code",
      "execution_count": null,
      "metadata": {
        "colab": {
          "base_uri": "https://localhost:8080/"
        },
        "id": "daNi9WrmrTUN",
        "outputId": "1007c503-6c54-4e0b-8e25-dc34d566163a"
      },
      "outputs": [
        {
          "output_type": "stream",
          "name": "stdout",
          "text": [
            "Archive:  /content/drive/MyDrive/tweet_cbow_100.zip\n",
            "  inflating: tweets_cbow_100         \n",
            "  inflating: tweets_cbow_100.trainables.syn1neg.npy  \n",
            "  inflating: tweets_cbow_100.wv.vectors.npy  \n"
          ]
        }
      ],
      "source": [
        "!unzip /content/drive/MyDrive/tweet_cbow_100.zip"
      ]
    },
    {
      "cell_type": "code",
      "execution_count": null,
      "metadata": {
        "colab": {
          "base_uri": "https://localhost:8080/"
        },
        "id": "Uk-_mrpxnBtS",
        "outputId": "44ec76a0-6d4f-4f03-9f35-f30137ccdd46"
      },
      "outputs": [
        {
          "output_type": "stream",
          "name": "stdout",
          "text": [
            "Drive already mounted at /content/drive; to attempt to forcibly remount, call drive.mount(\"/content/drive\", force_remount=True).\n"
          ]
        }
      ],
      "source": [
        "from google.colab import drive\n",
        "drive.mount('/content/drive')"
      ]
    },
    {
      "cell_type": "code",
      "execution_count": null,
      "metadata": {
        "id": "OBfSYiVvgEUI"
      },
      "outputs": [],
      "source": [
        "model_wv = gensim.models.Word2Vec.load(\"tweets_cbow_100\")"
      ]
    },
    {
      "cell_type": "markdown",
      "metadata": {
        "id": "cqgFH555rDSN"
      },
      "source": [
        "**Using Word2Vec Embedding**"
      ]
    },
    {
      "cell_type": "code",
      "execution_count": null,
      "metadata": {
        "id": "xq1pr2wmkNTg"
      },
      "outputs": [],
      "source": [
        "#adding all reviews into a list of docs\n",
        "docs = []\n",
        "for doc in df['review']:\n",
        "  docs.append(doc)"
      ]
    },
    {
      "cell_type": "code",
      "execution_count": null,
      "metadata": {
        "id": "J6wyHtLTuFpU"
      },
      "outputs": [],
      "source": [
        "#tokenize and vectorize the data\n",
        "def vectorize(text):\n",
        "    vectors = []\n",
        "    tokens = word_tokenize(text)\n",
        "    for token in tokens:\n",
        "        try:\n",
        "            vectors.append(model_wv.wv[token])\n",
        "        except KeyError:\n",
        "            continue\n",
        "    return np.mean(vectors, axis=0)\n"
      ]
    },
    {
      "cell_type": "code",
      "execution_count": null,
      "metadata": {
        "colab": {
          "base_uri": "https://localhost:8080/",
          "height": 678
        },
        "id": "4eVunqrRV0gC",
        "outputId": "7ad63238-1c23-472c-9c47-a1abeac03de7"
      },
      "outputs": [
        {
          "output_type": "stream",
          "name": "stderr",
          "text": [
            "/usr/local/lib/python3.9/dist-packages/numpy/core/fromnumeric.py:3474: RuntimeWarning: Mean of empty slice.\n",
            "  return _methods._mean(a, axis=axis, dtype=dtype,\n"
          ]
        },
        {
          "output_type": "execute_result",
          "data": {
            "text/plain": [
              "       rating        company  \\\n",
              "0           1         talbat   \n",
              "1           1         talbat   \n",
              "2          -1         talbat   \n",
              "3          -1         talbat   \n",
              "4          -1         talbat   \n",
              "...       ...            ...   \n",
              "38157       1  telecom_egypt   \n",
              "38158      -1  telecom_egypt   \n",
              "38159      -1  telecom_egypt   \n",
              "38160      -1  telecom_egypt   \n",
              "38161      -1  telecom_egypt   \n",
              "\n",
              "                                                  review  \\\n",
              "0                                                    رئع   \n",
              "1                       رنمج رئع جدا سعد لبه حيج شكل سرع   \n",
              "2      طبق غتح دائ يعط وجد تصل شبك انه الن عند تمم شو...   \n",
              "3                                لمذ يمك طلب ماكدونالدز؟   \n",
              "4           رنمج ظهر طعم غلق انه بتك فتح بقل كده كتر شهر   \n",
              "...                                                  ...   \n",
              "38157                            متز عمل متز سعر بلغ شوه   \n",
              "38158  رحل كوس حلة باص مش اد كده يري حدث باص حتي تكون...   \n",
              "38159  جرب جيد نقص عدم همم خدم عملاء عمل مره وصل شرك ...   \n",
              "38160  جيد لمذ وجد خطط كثر ريط يصل حتي ندي رمايه؟ رجو...   \n",
              "38161                    طبق حلو جدا خدم متز سعر علي شوه   \n",
              "\n",
              "                                                  vector  \n",
              "0                                                    NaN  \n",
              "1      [1.6961856, 0.08220401, -0.33615932, -0.392516...  \n",
              "2      [-0.22570415, 0.20668864, 0.05381265, -0.87980...  \n",
              "3      [2.3001964, -4.126458, 0.91109973, 1.2804632, ...  \n",
              "4      [0.89374125, -0.45155722, -0.4417662, -0.02822...  \n",
              "...                                                  ...  \n",
              "38157  [1.0109402, -0.6620609, -0.24655917, -0.112242...  \n",
              "38158  [0.7163581, -0.51264083, -0.11336234, -1.27559...  \n",
              "38159  [2.5690944, -0.10699671, 0.34229198, 0.0172564...  \n",
              "38160  [0.607037, 0.27123147, 0.27895132, 0.12746403,...  \n",
              "38161  [2.4438508, 0.27650556, -0.6744384, 0.31624493...  \n",
              "\n",
              "[38162 rows x 4 columns]"
            ],
            "text/html": [
              "\n",
              "  <div id=\"df-3b766911-218f-4fe2-b5bc-ccf2f263dedf\">\n",
              "    <div class=\"colab-df-container\">\n",
              "      <div>\n",
              "<style scoped>\n",
              "    .dataframe tbody tr th:only-of-type {\n",
              "        vertical-align: middle;\n",
              "    }\n",
              "\n",
              "    .dataframe tbody tr th {\n",
              "        vertical-align: top;\n",
              "    }\n",
              "\n",
              "    .dataframe thead th {\n",
              "        text-align: right;\n",
              "    }\n",
              "</style>\n",
              "<table border=\"1\" class=\"dataframe\">\n",
              "  <thead>\n",
              "    <tr style=\"text-align: right;\">\n",
              "      <th></th>\n",
              "      <th>rating</th>\n",
              "      <th>company</th>\n",
              "      <th>review</th>\n",
              "      <th>vector</th>\n",
              "    </tr>\n",
              "  </thead>\n",
              "  <tbody>\n",
              "    <tr>\n",
              "      <th>0</th>\n",
              "      <td>1</td>\n",
              "      <td>talbat</td>\n",
              "      <td>رئع</td>\n",
              "      <td>NaN</td>\n",
              "    </tr>\n",
              "    <tr>\n",
              "      <th>1</th>\n",
              "      <td>1</td>\n",
              "      <td>talbat</td>\n",
              "      <td>رنمج رئع جدا سعد لبه حيج شكل سرع</td>\n",
              "      <td>[1.6961856, 0.08220401, -0.33615932, -0.392516...</td>\n",
              "    </tr>\n",
              "    <tr>\n",
              "      <th>2</th>\n",
              "      <td>-1</td>\n",
              "      <td>talbat</td>\n",
              "      <td>طبق غتح دائ يعط وجد تصل شبك انه الن عند تمم شو...</td>\n",
              "      <td>[-0.22570415, 0.20668864, 0.05381265, -0.87980...</td>\n",
              "    </tr>\n",
              "    <tr>\n",
              "      <th>3</th>\n",
              "      <td>-1</td>\n",
              "      <td>talbat</td>\n",
              "      <td>لمذ يمك طلب ماكدونالدز؟</td>\n",
              "      <td>[2.3001964, -4.126458, 0.91109973, 1.2804632, ...</td>\n",
              "    </tr>\n",
              "    <tr>\n",
              "      <th>4</th>\n",
              "      <td>-1</td>\n",
              "      <td>talbat</td>\n",
              "      <td>رنمج ظهر طعم غلق انه بتك فتح بقل كده كتر شهر</td>\n",
              "      <td>[0.89374125, -0.45155722, -0.4417662, -0.02822...</td>\n",
              "    </tr>\n",
              "    <tr>\n",
              "      <th>...</th>\n",
              "      <td>...</td>\n",
              "      <td>...</td>\n",
              "      <td>...</td>\n",
              "      <td>...</td>\n",
              "    </tr>\n",
              "    <tr>\n",
              "      <th>38157</th>\n",
              "      <td>1</td>\n",
              "      <td>telecom_egypt</td>\n",
              "      <td>متز عمل متز سعر بلغ شوه</td>\n",
              "      <td>[1.0109402, -0.6620609, -0.24655917, -0.112242...</td>\n",
              "    </tr>\n",
              "    <tr>\n",
              "      <th>38158</th>\n",
              "      <td>-1</td>\n",
              "      <td>telecom_egypt</td>\n",
              "      <td>رحل كوس حلة باص مش اد كده يري حدث باص حتي تكون...</td>\n",
              "      <td>[0.7163581, -0.51264083, -0.11336234, -1.27559...</td>\n",
              "    </tr>\n",
              "    <tr>\n",
              "      <th>38159</th>\n",
              "      <td>-1</td>\n",
              "      <td>telecom_egypt</td>\n",
              "      <td>جرب جيد نقص عدم همم خدم عملاء عمل مره وصل شرك ...</td>\n",
              "      <td>[2.5690944, -0.10699671, 0.34229198, 0.0172564...</td>\n",
              "    </tr>\n",
              "    <tr>\n",
              "      <th>38160</th>\n",
              "      <td>-1</td>\n",
              "      <td>telecom_egypt</td>\n",
              "      <td>جيد لمذ وجد خطط كثر ريط يصل حتي ندي رمايه؟ رجو...</td>\n",
              "      <td>[0.607037, 0.27123147, 0.27895132, 0.12746403,...</td>\n",
              "    </tr>\n",
              "    <tr>\n",
              "      <th>38161</th>\n",
              "      <td>-1</td>\n",
              "      <td>telecom_egypt</td>\n",
              "      <td>طبق حلو جدا خدم متز سعر علي شوه</td>\n",
              "      <td>[2.4438508, 0.27650556, -0.6744384, 0.31624493...</td>\n",
              "    </tr>\n",
              "  </tbody>\n",
              "</table>\n",
              "<p>38162 rows × 4 columns</p>\n",
              "</div>\n",
              "      <button class=\"colab-df-convert\" onclick=\"convertToInteractive('df-3b766911-218f-4fe2-b5bc-ccf2f263dedf')\"\n",
              "              title=\"Convert this dataframe to an interactive table.\"\n",
              "              style=\"display:none;\">\n",
              "        \n",
              "  <svg xmlns=\"http://www.w3.org/2000/svg\" height=\"24px\"viewBox=\"0 0 24 24\"\n",
              "       width=\"24px\">\n",
              "    <path d=\"M0 0h24v24H0V0z\" fill=\"none\"/>\n",
              "    <path d=\"M18.56 5.44l.94 2.06.94-2.06 2.06-.94-2.06-.94-.94-2.06-.94 2.06-2.06.94zm-11 1L8.5 8.5l.94-2.06 2.06-.94-2.06-.94L8.5 2.5l-.94 2.06-2.06.94zm10 10l.94 2.06.94-2.06 2.06-.94-2.06-.94-.94-2.06-.94 2.06-2.06.94z\"/><path d=\"M17.41 7.96l-1.37-1.37c-.4-.4-.92-.59-1.43-.59-.52 0-1.04.2-1.43.59L10.3 9.45l-7.72 7.72c-.78.78-.78 2.05 0 2.83L4 21.41c.39.39.9.59 1.41.59.51 0 1.02-.2 1.41-.59l7.78-7.78 2.81-2.81c.8-.78.8-2.07 0-2.86zM5.41 20L4 18.59l7.72-7.72 1.47 1.35L5.41 20z\"/>\n",
              "  </svg>\n",
              "      </button>\n",
              "      \n",
              "  <style>\n",
              "    .colab-df-container {\n",
              "      display:flex;\n",
              "      flex-wrap:wrap;\n",
              "      gap: 12px;\n",
              "    }\n",
              "\n",
              "    .colab-df-convert {\n",
              "      background-color: #E8F0FE;\n",
              "      border: none;\n",
              "      border-radius: 50%;\n",
              "      cursor: pointer;\n",
              "      display: none;\n",
              "      fill: #1967D2;\n",
              "      height: 32px;\n",
              "      padding: 0 0 0 0;\n",
              "      width: 32px;\n",
              "    }\n",
              "\n",
              "    .colab-df-convert:hover {\n",
              "      background-color: #E2EBFA;\n",
              "      box-shadow: 0px 1px 2px rgba(60, 64, 67, 0.3), 0px 1px 3px 1px rgba(60, 64, 67, 0.15);\n",
              "      fill: #174EA6;\n",
              "    }\n",
              "\n",
              "    [theme=dark] .colab-df-convert {\n",
              "      background-color: #3B4455;\n",
              "      fill: #D2E3FC;\n",
              "    }\n",
              "\n",
              "    [theme=dark] .colab-df-convert:hover {\n",
              "      background-color: #434B5C;\n",
              "      box-shadow: 0px 1px 3px 1px rgba(0, 0, 0, 0.15);\n",
              "      filter: drop-shadow(0px 1px 2px rgba(0, 0, 0, 0.3));\n",
              "      fill: #FFFFFF;\n",
              "    }\n",
              "  </style>\n",
              "\n",
              "      <script>\n",
              "        const buttonEl =\n",
              "          document.querySelector('#df-3b766911-218f-4fe2-b5bc-ccf2f263dedf button.colab-df-convert');\n",
              "        buttonEl.style.display =\n",
              "          google.colab.kernel.accessAllowed ? 'block' : 'none';\n",
              "\n",
              "        async function convertToInteractive(key) {\n",
              "          const element = document.querySelector('#df-3b766911-218f-4fe2-b5bc-ccf2f263dedf');\n",
              "          const dataTable =\n",
              "            await google.colab.kernel.invokeFunction('convertToInteractive',\n",
              "                                                     [key], {});\n",
              "          if (!dataTable) return;\n",
              "\n",
              "          const docLinkHtml = 'Like what you see? Visit the ' +\n",
              "            '<a target=\"_blank\" href=https://colab.research.google.com/notebooks/data_table.ipynb>data table notebook</a>'\n",
              "            + ' to learn more about interactive tables.';\n",
              "          element.innerHTML = '';\n",
              "          dataTable['output_type'] = 'display_data';\n",
              "          await google.colab.output.renderOutput(dataTable, element);\n",
              "          const docLink = document.createElement('div');\n",
              "          docLink.innerHTML = docLinkHtml;\n",
              "          element.appendChild(docLink);\n",
              "        }\n",
              "      </script>\n",
              "    </div>\n",
              "  </div>\n",
              "  "
            ]
          },
          "metadata": {},
          "execution_count": 14
        }
      ],
      "source": [
        "df['vector'] = df['review'].apply(lambda text: vectorize(text))\n",
        "df"
      ]
    },
    {
      "cell_type": "code",
      "execution_count": null,
      "metadata": {
        "id": "B9mzWnmi5wlF"
      },
      "outputs": [],
      "source": [
        "df = df.dropna()"
      ]
    },
    {
      "cell_type": "code",
      "execution_count": null,
      "metadata": {
        "id": "h7o5Xdnc4-uB"
      },
      "outputs": [],
      "source": [
        "from sklearn.model_selection import train_test_split"
      ]
    },
    {
      "cell_type": "code",
      "execution_count": null,
      "metadata": {
        "id": "IRbQ-tYhzydM"
      },
      "outputs": [],
      "source": [
        "X_train, X_test, y_train, y_test = train_test_split(\n",
        "    df.vector.values,\n",
        "    df.rating,\n",
        "    test_size=0.2, # 20% samples will go to test dataset\n",
        "    random_state=2022,\n",
        "    stratify=df.rating\n",
        ")"
      ]
    },
    {
      "cell_type": "code",
      "source": [
        "X_train.shape"
      ],
      "metadata": {
        "colab": {
          "base_uri": "https://localhost:8080/"
        },
        "id": "LPZD0c34jMKL",
        "outputId": "94dfa024-f576-4ad1-d76d-bf55568fcd9a"
      },
      "execution_count": null,
      "outputs": [
        {
          "output_type": "execute_result",
          "data": {
            "text/plain": [
              "(27062,)"
            ]
          },
          "metadata": {},
          "execution_count": 18
        }
      ]
    },
    {
      "cell_type": "code",
      "source": [
        "print(\"Shape of X_train before reshaping: \", X_train.shape)\n",
        "print(\"Shape of X_test before reshaping: \", X_test.shape)\n",
        "\n",
        "\n",
        "X_train_2d = np.stack(X_train)\n",
        "X_test_2d =  np.stack(X_test)\n",
        "\n",
        "print(\"Shape of X_train after reshaping: \", X_train_2d.shape)\n",
        "print(\"Shape of X_test after reshaping: \", X_test_2d.shape)"
      ],
      "metadata": {
        "colab": {
          "base_uri": "https://localhost:8080/"
        },
        "id": "opABfUcgZXXJ",
        "outputId": "0895e2ff-e4d5-4963-f9c5-ed2eda9a0b20"
      },
      "execution_count": null,
      "outputs": [
        {
          "output_type": "stream",
          "name": "stdout",
          "text": [
            "Shape of X_train before reshaping:  (27062,)\n",
            "Shape of X_test before reshaping:  (6766,)\n",
            "Shape of X_train after reshaping:  (27062, 100)\n",
            "Shape of X_test after reshaping:  (6766, 100)\n"
          ]
        }
      ]
    },
    {
      "cell_type": "markdown",
      "source": [
        "Checking Linearity of the Data"
      ],
      "metadata": {
        "id": "6aFFtXFiMvZJ"
      }
    },
    {
      "cell_type": "code",
      "source": [
        "from sklearn.linear_model import LinearRegression\n",
        "lr = LinearRegression()\n",
        "lr.fit(X_train_2d,y_train)\n",
        "pred = lr.predict(X_test_2d)"
      ],
      "metadata": {
        "id": "WQV4MW0habR2"
      },
      "execution_count": null,
      "outputs": []
    },
    {
      "cell_type": "code",
      "source": [
        "from matplotlib import pyplot as plt\n",
        "\n",
        "plt.scatter(y_test, pred)\n",
        "plt.xlabel(\"True Values\")\n",
        "plt.ylabel(\"Predictions\")"
      ],
      "metadata": {
        "colab": {
          "base_uri": "https://localhost:8080/",
          "height": 466
        },
        "id": "30LlAtQvfArW",
        "outputId": "f3dbcedc-10d3-4de5-f3ce-039a2e28ff65"
      },
      "execution_count": null,
      "outputs": [
        {
          "output_type": "execute_result",
          "data": {
            "text/plain": [
              "Text(0, 0.5, 'Predictions')"
            ]
          },
          "metadata": {},
          "execution_count": 23
        },
        {
          "output_type": "display_data",
          "data": {
            "text/plain": [
              "<Figure size 640x480 with 1 Axes>"
            ],
            "image/png": "[encoded data removed]"
          },
          "metadata": {}
        }
      ]
    },
    {
      "cell_type": "code",
      "source": [
        "from sklearn.metrics import r2_score\n",
        "print(r2_score(lr.predict(X_test_2d), y_test))"
      ],
      "metadata": {
        "colab": {
          "base_uri": "https://localhost:8080/"
        },
        "id": "IuC_gE0IfTRI",
        "outputId": "27f78443-5292-4f75-d0a9-e189d8a6769e"
      },
      "execution_count": null,
      "outputs": [
        {
          "output_type": "stream",
          "name": "stdout",
          "text": [
            "-19.25119261607015\n"
          ]
        }
      ]
    },
    {
      "cell_type": "markdown",
      "source": [
        "The R-squared score shows that the dataset is non-linear"
      ],
      "metadata": {
        "id": "GB3nez2MM-Rt"
      }
    },
    {
      "cell_type": "markdown",
      "source": [
        "Now we will apply and compare between the following models:\n",
        "\n",
        "\n",
        "\n",
        "\n",
        "*   Random Forrest\n",
        "*   Gradient Boosting\n",
        "*   Support Vector Machine\n",
        "\n",
        "\n",
        "\n"
      ],
      "metadata": {
        "id": "_n9HijJyQYPd"
      }
    },
    {
      "cell_type": "markdown",
      "source": [
        "**Random Forrest Classifier**"
      ],
      "metadata": {
        "id": "jp8r5dHwPViH"
      }
    },
    {
      "cell_type": "code",
      "source": [
        "from sklearn.ensemble import RandomForestClassifier\n",
        "\n",
        "# Instantiate a Random Forest classifier\n",
        "rfc = RandomForestClassifier(n_estimators=100, random_state=42)\n",
        "\n",
        "# Train the model\n",
        "rfc.fit(X_train_2d, y_train)\n",
        "\n",
        "# Make predictions on test data\n",
        "y_pred = rfc.predict(X_test_2d)"
      ],
      "metadata": {
        "id": "B0lFbaMM2-va"
      },
      "execution_count": null,
      "outputs": []
    },
    {
      "cell_type": "code",
      "source": [
        "precision = accuracy_score(y_pred, y_test) * 100\n",
        "print(\"Accuracy with Random Forest: {0:.6f}\".format(precision))\n",
        "print(classification_report(y_test,y_pred))"
      ],
      "metadata": {
        "colab": {
          "base_uri": "https://localhost:8080/"
        },
        "id": "74HEKHHr7CRq",
        "outputId": "a27b3eff-a76f-4638-d83d-db47907ce0ab"
      },
      "execution_count": null,
      "outputs": [
        {
          "output_type": "stream",
          "name": "stdout",
          "text": [
            "Accuracy with Random Forest: 60.271948\n",
            "              precision    recall  f1-score   support\n",
            "\n",
            "          -1       0.52      0.26      0.35      2464\n",
            "           0       0.11      0.00      0.01       329\n",
            "           1       0.62      0.86      0.72      3973\n",
            "\n",
            "    accuracy                           0.60      6766\n",
            "   macro avg       0.42      0.38      0.36      6766\n",
            "weighted avg       0.56      0.60      0.55      6766\n",
            "\n"
          ]
        }
      ]
    },
    {
      "cell_type": "markdown",
      "source": [
        "**Gradient Boosting Classifier**"
      ],
      "metadata": {
        "id": "vX7uaF3iw_J5"
      }
    },
    {
      "cell_type": "code",
      "source": [
        "from sklearn.ensemble import GradientBoostingClassifier\n",
        "from sklearn.metrics import classification_report\n",
        "\n",
        "#1. creating a GradientBoosting model object\n",
        "clf = GradientBoostingClassifier()\n",
        "\n",
        "#2. fit with all_train_embeddings and y_train\n",
        "clf.fit(X_train_2d, y_train)\n",
        "\n",
        "\n",
        "#3. get the predictions for all_test_embeddings and store it in y_pred\n",
        "y_pred = clf.predict(X_test_2d)\n",
        "\n",
        "\n",
        "#4. print the classfication report\n",
        "print(classification_report(y_test, y_pred))"
      ],
      "metadata": {
        "colab": {
          "base_uri": "https://localhost:8080/"
        },
        "id": "5CpzKyd3ngg5",
        "outputId": "92a5a396-c939-45f7-fa37-f9e103bd2c5c"
      },
      "execution_count": null,
      "outputs": [
        {
          "output_type": "stream",
          "name": "stdout",
          "text": [
            "              precision    recall  f1-score   support\n",
            "\n",
            "          -1       0.56      0.26      0.36      2464\n",
            "           0       0.00      0.00      0.00       329\n",
            "           1       0.63      0.88      0.73      3973\n",
            "\n",
            "    accuracy                           0.61      6766\n",
            "   macro avg       0.39      0.38      0.36      6766\n",
            "weighted avg       0.57      0.61      0.56      6766\n",
            "\n"
          ]
        }
      ]
    },
    {
      "cell_type": "markdown",
      "source": [
        "**SVM Classifier**"
      ],
      "metadata": {
        "id": "caWfeKq4sI0p"
      }
    },
    {
      "cell_type": "code",
      "source": [
        "from sklearn import svm\n",
        "svm_clf = svm.SVC()\n",
        "svm_clf = svm_clf.fit(X_train_2d, y_train)"
      ],
      "metadata": {
        "id": "yIlMxYWzrnIA"
      },
      "execution_count": null,
      "outputs": []
    },
    {
      "cell_type": "code",
      "source": [
        "test_predictions = svm_clf.predict(X_test_2d)"
      ],
      "metadata": {
        "id": "jXpa_GATrnZ8"
      },
      "execution_count": null,
      "outputs": []
    },
    {
      "cell_type": "code",
      "source": [
        "precision = accuracy_score(test_predictions, y_test) * 100\n",
        "print(\"Accuracy with SVM: {0:.6f}\".format(precision))"
      ],
      "metadata": {
        "colab": {
          "base_uri": "https://localhost:8080/"
        },
        "id": "xmN4yJTJs34F",
        "outputId": "c0adc6e9-00bf-4c40-c097-fab50c0c9c3f"
      },
      "execution_count": null,
      "outputs": [
        {
          "output_type": "stream",
          "name": "stdout",
          "text": [
            "Accuracy with SVM: 61.720367\n"
          ]
        }
      ]
    },
    {
      "cell_type": "code",
      "source": [
        "print(classification_report(y_test,test_predictions))"
      ],
      "metadata": {
        "colab": {
          "base_uri": "https://localhost:8080/"
        },
        "id": "NKbc1ebcs_Hs",
        "outputId": "210f9758-d3fc-41e4-b3ce-eade1812034c"
      },
      "execution_count": null,
      "outputs": [
        {
          "output_type": "stream",
          "name": "stdout",
          "text": [
            "              precision    recall  f1-score   support\n",
            "\n",
            "          -1       0.57      0.25      0.35      2464\n",
            "           0       0.00      0.00      0.00       329\n",
            "           1       0.63      0.89      0.74      3973\n",
            "\n",
            "    accuracy                           0.62      6766\n",
            "   macro avg       0.40      0.38      0.36      6766\n",
            "weighted avg       0.58      0.62      0.56      6766\n",
            "\n"
          ]
        }
      ]
    },
    {
      "cell_type": "code",
      "execution_count": null,
      "metadata": {
        "colab": {
          "base_uri": "https://localhost:8080/"
        },
        "id": "WUnCo6sN5Nb5",
        "outputId": "299e2fc5-7272-4734-8914-6aada2bfa3ce"
      },
      "outputs": [
        {
          "output_type": "stream",
          "name": "stdout",
          "text": [
            "[NbConvertApp] Converting notebook /content/NLP_Task03.ipynb to html\n",
            "[NbConvertApp] Writing 657125 bytes to /content/NLP_Task03.html\n"
          ]
        },
        {
          "output_type": "execute_result",
          "data": {
            "text/plain": []
          },
          "metadata": {},
          "execution_count": 34
        }
      ],
      "source": [
        "%%shell\n",
        "jupyter nbconvert --to html /content/NLP_Task03.ipynb"
      ]
    },
    {
      "cell_type": "code",
      "source": [],
      "metadata": {
        "id": "3aiTwrWGRS44"
      },
      "execution_count": null,
      "outputs": []
    }
  ],
  "metadata": {
    "colab": {
      "provenance": []
    },
    "kernelspec": {
      "display_name": "Python 3",
      "name": "python3"
    },
    "language_info": {
      "name": "python"
    }
  },
  "nbformat": 4,
  "nbformat_minor": 0
}